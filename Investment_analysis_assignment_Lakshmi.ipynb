{
 "cells": [
  {
   "cell_type": "markdown",
   "metadata": {},
   "source": [
    "# Problem Statement & Business Objective"
   ]
  },
  {
   "cell_type": "markdown",
   "metadata": {},
   "source": [
    "## Project Brief"
   ]
  },
  {
   "cell_type": "markdown",
   "metadata": {
    "ExecuteTime": {
     "end_time": "2020-12-06T02:59:20.633459Z",
     "start_time": "2020-12-06T02:59:20.628436Z"
    }
   },
   "source": [
    "\n",
    "You work for Spark Funds, an asset management company. Spark Funds wants to make investments in a few companies. The CEO of Spark Funds wants to understand the global trends in investments so that she can take the investment decisions effectively."
   ]
  },
  {
   "cell_type": "markdown",
   "metadata": {},
   "source": [
    "## Business Understanding"
   ]
  },
  {
   "cell_type": "markdown",
   "metadata": {},
   "source": [
    "Spark Funds has two minor constraints for investments:\n",
    "\n",
    "It wants to invest between 5 to 15 million USD per round of investment\n",
    "\n",
    "It wants to invest only in English-speaking countries because of the ease of communication with the companies it would invest in"
   ]
  },
  {
   "cell_type": "markdown",
   "metadata": {
    "ExecuteTime": {
     "end_time": "2020-12-06T03:00:11.943385Z",
     "start_time": "2020-12-06T03:00:11.940661Z"
    }
   },
   "source": [
    "## Business objective"
   ]
  },
  {
   "cell_type": "markdown",
   "metadata": {},
   "source": [
    "The objective is to identify the best sectors, countries, and a suitable investment type for making investments. The overall strategy is to invest where others are investing, implying that the 'best' sectors and countries are the ones 'where most investors are investing'."
   ]
  },
  {
   "cell_type": "markdown",
   "metadata": {},
   "source": [
    "## Goals of data analysis"
   ]
  },
  {
   "cell_type": "markdown",
   "metadata": {},
   "source": [
    "Your goals are divided into three sub-goals:<br><br>\n",
    "<b>Investment type analysis:</b> Comparing the typical investment amounts in the venture, seed, angel, private equity etc. so that Spark Funds can choose the type that is best suited for their strategy.<br><br>\n",
    "<b>Country analysis:</b> Identifying the countries which have been the most heavily invested in the past. These will be Spark Funds’ favourites as well.<br><br>\n",
    "<b>Sector analysis:</b> Understanding the distribution of investments across the eight main sectors. (Note that we are interested in the eight 'main sectors' provided in the mapping file. The two files — companies and rounds2 — have numerous sub-sector names; hence, you will need to map each sub-sector to its main sector.)"
   ]
  },
  {
   "cell_type": "markdown",
   "metadata": {},
   "source": [
    "# Imports"
   ]
  },
  {
   "cell_type": "code",
   "execution_count": 1,
   "metadata": {
    "ExecuteTime": {
     "end_time": "2020-12-26T17:43:12.619600Z",
     "start_time": "2020-12-26T17:43:11.768941Z"
    }
   },
   "outputs": [],
   "source": [
    "import pandas as pd\n",
    "import matplotlib.pyplot as plt\n",
    "import seaborn as sns"
   ]
  },
  {
   "cell_type": "code",
   "execution_count": 2,
   "metadata": {
    "ExecuteTime": {
     "end_time": "2020-12-26T17:43:12.625386Z",
     "start_time": "2020-12-26T17:43:12.622397Z"
    }
   },
   "outputs": [],
   "source": [
    "pd.set_option('display.float_format', lambda x: '%.5f' % x)"
   ]
  },
  {
   "cell_type": "markdown",
   "metadata": {},
   "source": [
    "# Load the datasets"
   ]
  },
  {
   "cell_type": "code",
   "execution_count": 3,
   "metadata": {
    "ExecuteTime": {
     "end_time": "2020-12-26T17:43:13.199049Z",
     "start_time": "2020-12-26T17:43:12.627645Z"
    }
   },
   "outputs": [],
   "source": [
    "companies = pd.read_csv(\"input/companies.csv\",encoding='ISO-8859-1')\n",
    "rounds2 = pd.read_csv(\"input/rounds2.csv\",encoding='ISO-8859-1')\n",
    "mapping = pd.read_csv(\"input/mapping.csv\")"
   ]
  },
  {
   "cell_type": "code",
   "execution_count": 4,
   "metadata": {
    "ExecuteTime": {
     "end_time": "2020-12-26T17:43:13.205611Z",
     "start_time": "2020-12-26T17:43:13.201957Z"
    }
   },
   "outputs": [
    {
     "name": "stdout",
     "output_type": "stream",
     "text": [
      "Companies Shape:(66368, 10)\n",
      "Rounds2 Shape:(114949, 6)\n",
      "Mapping Shape:(688, 10)\n"
     ]
    }
   ],
   "source": [
    "print(f\"Companies Shape:{companies.shape}\")\n",
    "print(f\"Rounds2 Shape:{rounds2.shape}\")\n",
    "print(f\"Mapping Shape:{mapping.shape}\")"
   ]
  },
  {
   "cell_type": "code",
   "execution_count": 5,
   "metadata": {
    "ExecuteTime": {
     "end_time": "2020-12-26T17:43:13.230227Z",
     "start_time": "2020-12-26T17:43:13.209459Z"
    }
   },
   "outputs": [
    {
     "data": {
      "text/html": [
       "<div>\n",
       "<style scoped>\n",
       "    .dataframe tbody tr th:only-of-type {\n",
       "        vertical-align: middle;\n",
       "    }\n",
       "\n",
       "    .dataframe tbody tr th {\n",
       "        vertical-align: top;\n",
       "    }\n",
       "\n",
       "    .dataframe thead th {\n",
       "        text-align: right;\n",
       "    }\n",
       "</style>\n",
       "<table border=\"1\" class=\"dataframe\">\n",
       "  <thead>\n",
       "    <tr style=\"text-align: right;\">\n",
       "      <th></th>\n",
       "      <th>permalink</th>\n",
       "      <th>name</th>\n",
       "      <th>homepage_url</th>\n",
       "      <th>category_list</th>\n",
       "      <th>status</th>\n",
       "      <th>country_code</th>\n",
       "      <th>state_code</th>\n",
       "      <th>region</th>\n",
       "      <th>city</th>\n",
       "      <th>founded_at</th>\n",
       "    </tr>\n",
       "  </thead>\n",
       "  <tbody>\n",
       "    <tr>\n",
       "      <th>0</th>\n",
       "      <td>/Organization/-Fame</td>\n",
       "      <td>#fame</td>\n",
       "      <td>http://livfame.com</td>\n",
       "      <td>Media</td>\n",
       "      <td>operating</td>\n",
       "      <td>IND</td>\n",
       "      <td>16</td>\n",
       "      <td>Mumbai</td>\n",
       "      <td>Mumbai</td>\n",
       "      <td>NaN</td>\n",
       "    </tr>\n",
       "    <tr>\n",
       "      <th>1</th>\n",
       "      <td>/Organization/-Qounter</td>\n",
       "      <td>:Qounter</td>\n",
       "      <td>http://www.qounter.com</td>\n",
       "      <td>Application Platforms|Real Time|Social Network...</td>\n",
       "      <td>operating</td>\n",
       "      <td>USA</td>\n",
       "      <td>DE</td>\n",
       "      <td>DE - Other</td>\n",
       "      <td>Delaware City</td>\n",
       "      <td>04-09-2014</td>\n",
       "    </tr>\n",
       "  </tbody>\n",
       "</table>\n",
       "</div>"
      ],
      "text/plain": [
       "                permalink      name            homepage_url  \\\n",
       "0     /Organization/-Fame     #fame      http://livfame.com   \n",
       "1  /Organization/-Qounter  :Qounter  http://www.qounter.com   \n",
       "\n",
       "                                       category_list     status country_code  \\\n",
       "0                                              Media  operating          IND   \n",
       "1  Application Platforms|Real Time|Social Network...  operating          USA   \n",
       "\n",
       "  state_code      region           city  founded_at  \n",
       "0         16      Mumbai         Mumbai         NaN  \n",
       "1         DE  DE - Other  Delaware City  04-09-2014  "
      ]
     },
     "execution_count": 5,
     "metadata": {},
     "output_type": "execute_result"
    }
   ],
   "source": [
    "companies.head(2)"
   ]
  },
  {
   "cell_type": "code",
   "execution_count": 6,
   "metadata": {
    "ExecuteTime": {
     "end_time": "2020-12-26T17:43:13.243637Z",
     "start_time": "2020-12-26T17:43:13.232885Z"
    }
   },
   "outputs": [
    {
     "data": {
      "text/html": [
       "<div>\n",
       "<style scoped>\n",
       "    .dataframe tbody tr th:only-of-type {\n",
       "        vertical-align: middle;\n",
       "    }\n",
       "\n",
       "    .dataframe tbody tr th {\n",
       "        vertical-align: top;\n",
       "    }\n",
       "\n",
       "    .dataframe thead th {\n",
       "        text-align: right;\n",
       "    }\n",
       "</style>\n",
       "<table border=\"1\" class=\"dataframe\">\n",
       "  <thead>\n",
       "    <tr style=\"text-align: right;\">\n",
       "      <th></th>\n",
       "      <th>company_permalink</th>\n",
       "      <th>funding_round_permalink</th>\n",
       "      <th>funding_round_type</th>\n",
       "      <th>funding_round_code</th>\n",
       "      <th>funded_at</th>\n",
       "      <th>raised_amount_usd</th>\n",
       "    </tr>\n",
       "  </thead>\n",
       "  <tbody>\n",
       "    <tr>\n",
       "      <th>0</th>\n",
       "      <td>/organization/-fame</td>\n",
       "      <td>/funding-round/9a01d05418af9f794eebff7ace91f638</td>\n",
       "      <td>venture</td>\n",
       "      <td>B</td>\n",
       "      <td>05-01-2015</td>\n",
       "      <td>10000000.00000</td>\n",
       "    </tr>\n",
       "    <tr>\n",
       "      <th>1</th>\n",
       "      <td>/ORGANIZATION/-QOUNTER</td>\n",
       "      <td>/funding-round/22dacff496eb7acb2b901dec1dfe5633</td>\n",
       "      <td>venture</td>\n",
       "      <td>A</td>\n",
       "      <td>14-10-2014</td>\n",
       "      <td>nan</td>\n",
       "    </tr>\n",
       "  </tbody>\n",
       "</table>\n",
       "</div>"
      ],
      "text/plain": [
       "        company_permalink                          funding_round_permalink  \\\n",
       "0     /organization/-fame  /funding-round/9a01d05418af9f794eebff7ace91f638   \n",
       "1  /ORGANIZATION/-QOUNTER  /funding-round/22dacff496eb7acb2b901dec1dfe5633   \n",
       "\n",
       "  funding_round_type funding_round_code   funded_at  raised_amount_usd  \n",
       "0            venture                  B  05-01-2015     10000000.00000  \n",
       "1            venture                  A  14-10-2014                nan  "
      ]
     },
     "execution_count": 6,
     "metadata": {},
     "output_type": "execute_result"
    }
   ],
   "source": [
    "rounds2.head(2)"
   ]
  },
  {
   "cell_type": "code",
   "execution_count": 7,
   "metadata": {
    "ExecuteTime": {
     "end_time": "2020-12-26T17:43:13.256998Z",
     "start_time": "2020-12-26T17:43:13.245732Z"
    }
   },
   "outputs": [
    {
     "data": {
      "text/html": [
       "<div>\n",
       "<style scoped>\n",
       "    .dataframe tbody tr th:only-of-type {\n",
       "        vertical-align: middle;\n",
       "    }\n",
       "\n",
       "    .dataframe tbody tr th {\n",
       "        vertical-align: top;\n",
       "    }\n",
       "\n",
       "    .dataframe thead th {\n",
       "        text-align: right;\n",
       "    }\n",
       "</style>\n",
       "<table border=\"1\" class=\"dataframe\">\n",
       "  <thead>\n",
       "    <tr style=\"text-align: right;\">\n",
       "      <th></th>\n",
       "      <th>category_list</th>\n",
       "      <th>Automotive &amp; Sports</th>\n",
       "      <th>Blanks</th>\n",
       "      <th>Cleantech / Semiconductors</th>\n",
       "      <th>Entertainment</th>\n",
       "      <th>Health</th>\n",
       "      <th>Manufacturing</th>\n",
       "      <th>News, Search and Messaging</th>\n",
       "      <th>Others</th>\n",
       "      <th>Social, Finance, Analytics, Advertising</th>\n",
       "    </tr>\n",
       "  </thead>\n",
       "  <tbody>\n",
       "    <tr>\n",
       "      <th>0</th>\n",
       "      <td>NaN</td>\n",
       "      <td>0</td>\n",
       "      <td>1</td>\n",
       "      <td>0</td>\n",
       "      <td>0</td>\n",
       "      <td>0</td>\n",
       "      <td>0</td>\n",
       "      <td>0</td>\n",
       "      <td>0</td>\n",
       "      <td>0</td>\n",
       "    </tr>\n",
       "    <tr>\n",
       "      <th>1</th>\n",
       "      <td>3D</td>\n",
       "      <td>0</td>\n",
       "      <td>0</td>\n",
       "      <td>0</td>\n",
       "      <td>0</td>\n",
       "      <td>0</td>\n",
       "      <td>1</td>\n",
       "      <td>0</td>\n",
       "      <td>0</td>\n",
       "      <td>0</td>\n",
       "    </tr>\n",
       "  </tbody>\n",
       "</table>\n",
       "</div>"
      ],
      "text/plain": [
       "  category_list  Automotive & Sports  Blanks  Cleantech / Semiconductors  \\\n",
       "0           NaN                    0       1                           0   \n",
       "1            3D                    0       0                           0   \n",
       "\n",
       "   Entertainment  Health  Manufacturing  News, Search and Messaging  Others  \\\n",
       "0              0       0              0                           0       0   \n",
       "1              0       0              1                           0       0   \n",
       "\n",
       "   Social, Finance, Analytics, Advertising  \n",
       "0                                        0  \n",
       "1                                        0  "
      ]
     },
     "execution_count": 7,
     "metadata": {},
     "output_type": "execute_result"
    }
   ],
   "source": [
    "mapping.head(2)"
   ]
  },
  {
   "cell_type": "markdown",
   "metadata": {
    "ExecuteTime": {
     "end_time": "2020-12-06T03:20:37.164377Z",
     "start_time": "2020-12-06T03:20:37.154241Z"
    }
   },
   "source": [
    "# Checkpoint 1 - Data Preprocessing\n"
   ]
  },
  {
   "cell_type": "markdown",
   "metadata": {},
   "source": [
    "##  How many unique companies are present in rounds2?"
   ]
  },
  {
   "cell_type": "markdown",
   "metadata": {},
   "source": [
    "### Standardize data - convert company_permalink to lower case"
   ]
  },
  {
   "cell_type": "code",
   "execution_count": 8,
   "metadata": {
    "ExecuteTime": {
     "end_time": "2020-12-26T17:43:13.304833Z",
     "start_time": "2020-12-26T17:43:13.258977Z"
    }
   },
   "outputs": [],
   "source": [
    "rounds2['company_permalink'] = rounds2['company_permalink'].str.lower()"
   ]
  },
  {
   "cell_type": "markdown",
   "metadata": {
    "ExecuteTime": {
     "end_time": "2020-12-26T13:28:55.773446Z",
     "start_time": "2020-12-26T13:28:55.768342Z"
    }
   },
   "source": [
    "### Convert special characters present in the permalink\n",
    "NOTE: Noticed while comparing the company permalink between companies & round2, but the encoding/decoding needs to be done here"
   ]
  },
  {
   "cell_type": "code",
   "execution_count": 9,
   "metadata": {
    "ExecuteTime": {
     "end_time": "2020-12-26T17:43:13.461449Z",
     "start_time": "2020-12-26T17:43:13.306978Z"
    }
   },
   "outputs": [],
   "source": [
    "rounds2['company_permalink']= rounds2[['company_permalink']].applymap(lambda x: x.encode('utf-8').decode('ascii', 'ignore'))\n"
   ]
  },
  {
   "cell_type": "markdown",
   "metadata": {},
   "source": [
    "### Get no. of unique companies based on company_permalink"
   ]
  },
  {
   "cell_type": "code",
   "execution_count": 10,
   "metadata": {
    "ExecuteTime": {
     "end_time": "2020-12-26T17:43:13.598714Z",
     "start_time": "2020-12-26T17:43:13.463363Z"
    }
   },
   "outputs": [
    {
     "data": {
      "text/plain": [
       "company_permalink           66368\n",
       "funding_round_permalink    114949\n",
       "funding_round_type             14\n",
       "funding_round_code              8\n",
       "funded_at                    5033\n",
       "raised_amount_usd           22095\n",
       "dtype: int64"
      ]
     },
     "execution_count": 10,
     "metadata": {},
     "output_type": "execute_result"
    }
   ],
   "source": [
    "rounds2.nunique()"
   ]
  },
  {
   "cell_type": "markdown",
   "metadata": {},
   "source": [
    "<b>ANSWER:</b> No. of unique companies in rounds2 = 66368"
   ]
  },
  {
   "cell_type": "markdown",
   "metadata": {},
   "source": [
    "##  How many unique companies are present in the companies file?"
   ]
  },
  {
   "cell_type": "markdown",
   "metadata": {},
   "source": [
    "### Standardize data - convert company_permalink to lower case"
   ]
  },
  {
   "cell_type": "code",
   "execution_count": 11,
   "metadata": {
    "ExecuteTime": {
     "end_time": "2020-12-26T17:43:13.625447Z",
     "start_time": "2020-12-26T17:43:13.601005Z"
    }
   },
   "outputs": [],
   "source": [
    "companies['permalink'] = companies['permalink'].str.lower()"
   ]
  },
  {
   "cell_type": "markdown",
   "metadata": {},
   "source": [
    "### Convert special characters present in the permalink\n",
    "NOTE: Noticed while comparing the company permalink between companies & round2, but cleanup needs to be done here"
   ]
  },
  {
   "cell_type": "code",
   "execution_count": 12,
   "metadata": {
    "ExecuteTime": {
     "end_time": "2020-12-26T17:43:13.729559Z",
     "start_time": "2020-12-26T17:43:13.627665Z"
    }
   },
   "outputs": [],
   "source": [
    "companies['permalink']= companies[['permalink']].applymap(lambda x: x.encode('utf-8').decode('ascii', 'ignore'))"
   ]
  },
  {
   "cell_type": "markdown",
   "metadata": {},
   "source": [
    "### Get no. of unique companies based on permalink"
   ]
  },
  {
   "cell_type": "code",
   "execution_count": 13,
   "metadata": {
    "ExecuteTime": {
     "end_time": "2020-12-26T17:43:13.815202Z",
     "start_time": "2020-12-26T17:43:13.731604Z"
    },
    "scrolled": true
   },
   "outputs": [
    {
     "data": {
      "text/plain": [
       "permalink        66368\n",
       "name             66099\n",
       "homepage_url     61191\n",
       "category_list    27296\n",
       "status               4\n",
       "country_code       137\n",
       "state_code         311\n",
       "region            1092\n",
       "city              5111\n",
       "founded_at        3978\n",
       "dtype: int64"
      ]
     },
     "execution_count": 13,
     "metadata": {},
     "output_type": "execute_result"
    }
   ],
   "source": [
    "companies.nunique()"
   ]
  },
  {
   "cell_type": "markdown",
   "metadata": {},
   "source": [
    "<b>ANSWER:</b> No. of unique companies in companies = 66368"
   ]
  },
  {
   "cell_type": "markdown",
   "metadata": {},
   "source": [
    "## In the companies data frame, which column can be used as the unique key for each company? Write the name of the column."
   ]
  },
  {
   "cell_type": "code",
   "execution_count": 14,
   "metadata": {
    "ExecuteTime": {
     "end_time": "2020-12-26T17:43:13.823826Z",
     "start_time": "2020-12-26T17:43:13.817996Z"
    }
   },
   "outputs": [
    {
     "data": {
      "text/plain": [
       "(66368, 10)"
      ]
     },
     "execution_count": 14,
     "metadata": {},
     "output_type": "execute_result"
    }
   ],
   "source": [
    "companies.shape"
   ]
  },
  {
   "cell_type": "code",
   "execution_count": 15,
   "metadata": {
    "ExecuteTime": {
     "end_time": "2020-12-26T17:43:13.927630Z",
     "start_time": "2020-12-26T17:43:13.826276Z"
    },
    "scrolled": true
   },
   "outputs": [
    {
     "data": {
      "text/plain": [
       "permalink        66368\n",
       "name             66099\n",
       "homepage_url     61191\n",
       "category_list    27296\n",
       "status               4\n",
       "country_code       137\n",
       "state_code         311\n",
       "region            1092\n",
       "city              5111\n",
       "founded_at        3978\n",
       "dtype: int64"
      ]
     },
     "execution_count": 15,
     "metadata": {},
     "output_type": "execute_result"
    }
   ],
   "source": [
    "companies.nunique()"
   ]
  },
  {
   "cell_type": "markdown",
   "metadata": {},
   "source": [
    "<b>ANSWER:</b> permalink columns can be used as unique key"
   ]
  },
  {
   "cell_type": "markdown",
   "metadata": {},
   "source": [
    "##  Are there any companies in the rounds2 file which are not present in companies ? Answer Y/N."
   ]
  },
  {
   "cell_type": "code",
   "execution_count": 16,
   "metadata": {
    "ExecuteTime": {
     "end_time": "2020-12-26T17:43:13.999937Z",
     "start_time": "2020-12-26T17:43:13.930413Z"
    }
   },
   "outputs": [
    {
     "data": {
      "text/plain": [
       "set()"
      ]
     },
     "execution_count": 16,
     "metadata": {},
     "output_type": "execute_result"
    }
   ],
   "source": [
    "set(rounds2['company_permalink']).difference(set(companies['permalink']))"
   ]
  },
  {
   "cell_type": "code",
   "execution_count": 17,
   "metadata": {
    "ExecuteTime": {
     "end_time": "2020-12-26T17:43:14.065856Z",
     "start_time": "2020-12-26T17:43:14.004846Z"
    }
   },
   "outputs": [
    {
     "data": {
      "text/plain": [
       "set()"
      ]
     },
     "execution_count": 17,
     "metadata": {},
     "output_type": "execute_result"
    }
   ],
   "source": [
    "set(companies['permalink']).difference(set(rounds2['company_permalink']))"
   ]
  },
  {
   "cell_type": "markdown",
   "metadata": {},
   "source": [
    "<b>ANSWER:</b> N <br>\n",
    "Both rounds2 and companies dataframes have the same set of companies"
   ]
  },
  {
   "cell_type": "markdown",
   "metadata": {},
   "source": [
    "##  Merge the two data frames so that all variables (columns) in the companies frame are added to the rounds2 data frame. Name the merged frame master_frame. How many observations are present in master_frame ?"
   ]
  },
  {
   "cell_type": "code",
   "execution_count": 18,
   "metadata": {
    "ExecuteTime": {
     "end_time": "2020-12-26T17:43:14.180495Z",
     "start_time": "2020-12-26T17:43:14.079099Z"
    }
   },
   "outputs": [],
   "source": [
    "master_frame = pd.merge(rounds2,companies,how=\"left\",left_on = 'company_permalink',right_on = 'permalink')"
   ]
  },
  {
   "cell_type": "code",
   "execution_count": 19,
   "metadata": {
    "ExecuteTime": {
     "end_time": "2020-12-26T17:43:14.194490Z",
     "start_time": "2020-12-26T17:43:14.189064Z"
    }
   },
   "outputs": [
    {
     "data": {
      "text/plain": [
       "(114949, 16)"
      ]
     },
     "execution_count": 19,
     "metadata": {},
     "output_type": "execute_result"
    }
   ],
   "source": [
    "master_frame.shape"
   ]
  },
  {
   "cell_type": "markdown",
   "metadata": {},
   "source": [
    "Result: No. of observatiions in master_frame = 114949"
   ]
  },
  {
   "cell_type": "markdown",
   "metadata": {},
   "source": [
    "## Data cleanup"
   ]
  },
  {
   "cell_type": "markdown",
   "metadata": {},
   "source": [
    "### Removing missing investment amount rows"
   ]
  },
  {
   "cell_type": "code",
   "execution_count": 20,
   "metadata": {
    "ExecuteTime": {
     "end_time": "2020-12-26T17:43:14.372611Z",
     "start_time": "2020-12-26T17:43:14.197410Z"
    }
   },
   "outputs": [
    {
     "data": {
      "text/plain": [
       "company_permalink          0.00000\n",
       "funding_round_permalink    0.00000\n",
       "funding_round_type         0.00000\n",
       "funding_round_code        72.90973\n",
       "funded_at                  0.00000\n",
       "raised_amount_usd         17.39032\n",
       "permalink                  0.00000\n",
       "name                       0.00087\n",
       "homepage_url               5.33628\n",
       "category_list              2.96653\n",
       "status                     0.00000\n",
       "country_code               7.54943\n",
       "state_code                 9.52248\n",
       "region                     8.84479\n",
       "city                       8.84218\n",
       "founded_at                17.85226\n",
       "dtype: float64"
      ]
     },
     "execution_count": 20,
     "metadata": {},
     "output_type": "execute_result"
    }
   ],
   "source": [
    "# Missing percentage in each column\n",
    "master_frame.isnull().sum()/len(master_frame.index)*100"
   ]
  },
  {
   "cell_type": "code",
   "execution_count": 21,
   "metadata": {
    "ExecuteTime": {
     "end_time": "2020-12-26T17:43:14.389707Z",
     "start_time": "2020-12-26T17:43:14.374662Z"
    }
   },
   "outputs": [
    {
     "data": {
      "text/plain": [
       "count         94959.00000\n",
       "mean       10426869.33450\n",
       "std       114821247.98486\n",
       "min               0.00000\n",
       "25%          322500.00000\n",
       "50%         1680511.00000\n",
       "75%         7000000.00000\n",
       "max     21271935000.00000\n",
       "Name: raised_amount_usd, dtype: float64"
      ]
     },
     "execution_count": 21,
     "metadata": {},
     "output_type": "execute_result"
    }
   ],
   "source": [
    "master_frame['raised_amount_usd'].describe()"
   ]
  },
  {
   "cell_type": "code",
   "execution_count": 22,
   "metadata": {
    "ExecuteTime": {
     "end_time": "2020-12-26T17:43:14.423963Z",
     "start_time": "2020-12-26T17:43:14.392013Z"
    }
   },
   "outputs": [],
   "source": [
    "# Remove rows without the raised amount as the investment analysis is based on the raised amount ranging from 5M to 15M\n",
    "\n",
    "master_frame = master_frame.dropna(subset = ['raised_amount_usd'])"
   ]
  },
  {
   "cell_type": "markdown",
   "metadata": {},
   "source": [
    "### Imputing missing values for country_code and category_list"
   ]
  },
  {
   "cell_type": "code",
   "execution_count": 23,
   "metadata": {
    "ExecuteTime": {
     "end_time": "2020-12-26T17:43:14.471212Z",
     "start_time": "2020-12-26T17:43:14.426285Z"
    }
   },
   "outputs": [],
   "source": [
    "master_frame['country_code']=master_frame['country_code'].fillna('UNK_CTR')"
   ]
  },
  {
   "cell_type": "code",
   "execution_count": 24,
   "metadata": {
    "ExecuteTime": {
     "end_time": "2020-12-26T17:43:14.485939Z",
     "start_time": "2020-12-26T17:43:14.473480Z"
    }
   },
   "outputs": [],
   "source": [
    "master_frame['category_list']=master_frame['category_list'].fillna('UNK_CAT')"
   ]
  },
  {
   "cell_type": "code",
   "execution_count": 25,
   "metadata": {
    "ExecuteTime": {
     "end_time": "2020-12-26T17:43:14.520469Z",
     "start_time": "2020-12-26T17:43:14.489041Z"
    }
   },
   "outputs": [
    {
     "data": {
      "text/plain": [
       "raised_amount_usd   0.00000\n",
       "country_code        0.00000\n",
       "category_list       0.00000\n",
       "dtype: float64"
      ]
     },
     "execution_count": 25,
     "metadata": {},
     "output_type": "execute_result"
    }
   ],
   "source": [
    "# Check the missing values\n",
    "master_frame[['raised_amount_usd','country_code','category_list']].isnull().sum()/len(master_frame.index)*100"
   ]
  },
  {
   "cell_type": "markdown",
   "metadata": {},
   "source": [
    "# Checkpoint 2 - Funding Type Analysis"
   ]
  },
  {
   "cell_type": "code",
   "execution_count": 26,
   "metadata": {
    "ExecuteTime": {
     "end_time": "2020-12-26T17:43:14.533373Z",
     "start_time": "2020-12-26T17:43:14.523003Z"
    }
   },
   "outputs": [
    {
     "data": {
      "text/plain": [
       "array(['venture', 'seed', 'undisclosed', 'convertible_note',\n",
       "       'private_equity', 'debt_financing', 'angel', 'grant',\n",
       "       'equity_crowdfunding', 'post_ipo_equity', 'post_ipo_debt',\n",
       "       'product_crowdfunding', 'secondary_market',\n",
       "       'non_equity_assistance'], dtype=object)"
      ]
     },
     "execution_count": 26,
     "metadata": {},
     "output_type": "execute_result"
    }
   ],
   "source": [
    "master_frame['funding_round_type'].unique()"
   ]
  },
  {
   "cell_type": "markdown",
   "metadata": {},
   "source": [
    "## Get the total invested amount (in millions) for the 4 funding types"
   ]
  },
  {
   "cell_type": "code",
   "execution_count": 27,
   "metadata": {
    "ExecuteTime": {
     "end_time": "2020-12-26T17:43:14.602520Z",
     "start_time": "2020-12-26T17:43:14.535792Z"
    }
   },
   "outputs": [
    {
     "name": "stderr",
     "output_type": "stream",
     "text": [
      "/Users/le0080/.pyenv/versions/3.6.6/lib/python3.6/site-packages/ipykernel_launcher.py:3: SettingWithCopyWarning: \n",
      "A value is trying to be set on a copy of a slice from a DataFrame.\n",
      "Try using .loc[row_indexer,col_indexer] = value instead\n",
      "\n",
      "See the caveats in the documentation: http://pandas.pydata.org/pandas-docs/stable/indexing.html#indexing-view-versus-copy\n",
      "  This is separate from the ipykernel package so we can avoid doing imports until\n"
     ]
    }
   ],
   "source": [
    "# Filter master frame for the 4 funding types - seed, venture, angel, private equity\n",
    "master_frame_4FT = master_frame[master_frame['funding_round_type'].isin(['seed','venture','angel','private_equity'])]\n",
    "master_frame_4FT['raised_amount_usd'] = master_frame_4FT['raised_amount_usd']/1000000"
   ]
  },
  {
   "cell_type": "markdown",
   "metadata": {},
   "source": [
    "## Identify the Representative Value - Median ( in millions)"
   ]
  },
  {
   "cell_type": "code",
   "execution_count": 28,
   "metadata": {
    "ExecuteTime": {
     "end_time": "2020-12-26T17:43:14.619366Z",
     "start_time": "2020-12-26T17:43:14.604968Z"
    }
   },
   "outputs": [
    {
     "data": {
      "text/plain": [
       "funding_round_type\n",
       "private_equity   20.00000\n",
       "venture           5.00000\n",
       "angel             0.40000\n",
       "seed              0.27500\n",
       "Name: raised_amount_usd, dtype: float64"
      ]
     },
     "execution_count": 28,
     "metadata": {},
     "output_type": "execute_result"
    }
   ],
   "source": [
    "funds = master_frame_4FT.groupby('funding_round_type')['raised_amount_usd'].median().sort_values(ascending=False)\n",
    "funds"
   ]
  },
  {
   "cell_type": "markdown",
   "metadata": {},
   "source": [
    "ANSWER: \"venture\" funding type is in the range of 5M to 15M per investment round (based on the median value)"
   ]
  },
  {
   "cell_type": "markdown",
   "metadata": {
    "ExecuteTime": {
     "end_time": "2020-12-20T15:33:00.155547Z",
     "start_time": "2020-12-20T15:33:00.152656Z"
    }
   },
   "source": [
    "## Additional exploration"
   ]
  },
  {
   "cell_type": "markdown",
   "metadata": {
    "ExecuteTime": {
     "end_time": "2020-12-25T03:09:40.449800Z",
     "start_time": "2020-12-25T03:09:40.447692Z"
    }
   },
   "source": [
    "### Box plot to check for outliers"
   ]
  },
  {
   "cell_type": "code",
   "execution_count": 29,
   "metadata": {
    "ExecuteTime": {
     "end_time": "2020-12-26T17:43:15.436915Z",
     "start_time": "2020-12-26T17:43:14.621678Z"
    }
   },
   "outputs": [
    {
     "data": {
      "image/png": "[encoded data removed]",
      "text/plain": [
       "<Figure size 1080x504 with 1 Axes>"
      ]
     },
     "metadata": {
      "needs_background": "light"
     },
     "output_type": "display_data"
    }
   ],
   "source": [
    "# boxplot of a variable across various funding categories\n",
    "plt.figure(figsize=(15, 7))\n",
    "sns.boxplot(x='funding_round_type', y='raised_amount_usd', data=master_frame_4FT)\n",
    "plt.yscale('log')\n",
    "plt.show()"
   ]
  },
  {
   "cell_type": "markdown",
   "metadata": {},
   "source": [
    "There are outliers in the data for each of the funding types.<br>\n",
    "But we cannot remove the outliers as it could be genuine cases where these companies got more investments"
   ]
  },
  {
   "cell_type": "markdown",
   "metadata": {},
   "source": [
    "### Invested amount mean on funding type"
   ]
  },
  {
   "cell_type": "code",
   "execution_count": 30,
   "metadata": {
    "ExecuteTime": {
     "end_time": "2020-12-26T17:43:15.449244Z",
     "start_time": "2020-12-26T17:43:15.438848Z"
    }
   },
   "outputs": [
    {
     "data": {
      "text/plain": [
       "funding_round_type\n",
       "private_equity   73.30859\n",
       "venture          11.74895\n",
       "angel             0.95869\n",
       "seed              0.71982\n",
       "Name: raised_amount_usd, dtype: float64"
      ]
     },
     "execution_count": 30,
     "metadata": {},
     "output_type": "execute_result"
    }
   ],
   "source": [
    "mean_funds = master_frame_4FT.groupby('funding_round_type')['raised_amount_usd'].mean().sort_values(ascending=False)\n",
    "mean_funds"
   ]
  },
  {
   "cell_type": "markdown",
   "metadata": {},
   "source": [
    "The average investment made in venture type funds is 11.74M$"
   ]
  },
  {
   "cell_type": "markdown",
   "metadata": {},
   "source": [
    "### Venture type funds - analysis"
   ]
  },
  {
   "cell_type": "code",
   "execution_count": 31,
   "metadata": {
    "ExecuteTime": {
     "end_time": "2020-12-26T17:43:15.469756Z",
     "start_time": "2020-12-26T17:43:15.451280Z"
    }
   },
   "outputs": [],
   "source": [
    "funds_venture_type = master_frame[master_frame['funding_round_type']=='venture']"
   ]
  },
  {
   "cell_type": "code",
   "execution_count": 32,
   "metadata": {
    "ExecuteTime": {
     "end_time": "2020-12-26T17:43:15.488410Z",
     "start_time": "2020-12-26T17:43:15.471664Z"
    }
   },
   "outputs": [
    {
     "name": "stdout",
     "output_type": "stream",
     "text": [
      "Total No. of Funds:94959\n",
      "No. of Venture Type Funds:50228\n",
      "Percentage of Venture Type Funds:52.89%\n"
     ]
    },
    {
     "data": {
      "text/plain": [
       "count         50228.00000\n",
       "mean       11748949.12949\n",
       "std        86352066.55796\n",
       "min               0.00000\n",
       "25%         1600901.75000\n",
       "50%         5000000.00000\n",
       "75%        12000000.00000\n",
       "max     17600000000.00000\n",
       "Name: raised_amount_usd, dtype: float64"
      ]
     },
     "execution_count": 32,
     "metadata": {},
     "output_type": "execute_result"
    }
   ],
   "source": [
    "print(f\"Total No. of Funds:{master_frame.shape[0]}\")\n",
    "print(f\"No. of Venture Type Funds:{funds_venture_type.shape[0]}\")\n",
    "print(f\"Percentage of Venture Type Funds:{round(funds_venture_type.shape[0]/master_frame.shape[0]*100,2)}%\")\n",
    "funds_venture_type['raised_amount_usd'].describe()"
   ]
  },
  {
   "cell_type": "markdown",
   "metadata": {},
   "source": [
    "### Pie chart for the funds"
   ]
  },
  {
   "cell_type": "code",
   "execution_count": 33,
   "metadata": {
    "ExecuteTime": {
     "end_time": "2020-12-26T17:43:15.782110Z",
     "start_time": "2020-12-26T17:43:15.491114Z"
    },
    "scrolled": false
   },
   "outputs": [
    {
     "data": {
      "image/png": "[encoded data removed]",
      "text/plain": [
       "<Figure size 864x504 with 1 Axes>"
      ]
     },
     "metadata": {},
     "output_type": "display_data"
    }
   ],
   "source": [
    "f, ax = plt.subplots(figsize=(12,7)) \n",
    "# only \"explode\" the 2nd slice (i.e. 'Venture')\n",
    "explode = (0, 0.1, 0, 0)\n",
    "ax.pie(funds, explode=explode, labels=funds)#, colors=colors)\n",
    "plt.legend(funds.index, loc=\"best\", title = 'Funding Type')\n",
    "plt.title('Representative Investment Amount (in million $) per Funding Type')\n",
    "ax.axis('equal')\n",
    "plt.tight_layout()\n",
    "plt.show()\n",
    "\n",
    "\n",
    " "
   ]
  },
  {
   "cell_type": "markdown",
   "metadata": {},
   "source": [
    "# Checkpoint 3 - Country Analysis"
   ]
  },
  {
   "cell_type": "markdown",
   "metadata": {},
   "source": [
    "## Countries with highest total funding"
   ]
  },
  {
   "cell_type": "code",
   "execution_count": 34,
   "metadata": {
    "ExecuteTime": {
     "end_time": "2020-12-26T17:43:15.802000Z",
     "start_time": "2020-12-26T17:43:15.783996Z"
    }
   },
   "outputs": [],
   "source": [
    "maxfunds_country = pd.DataFrame(master_frame.groupby(['funding_round_type','country_code'])['raised_amount_usd'].sum().sort_values(ascending=False))"
   ]
  },
  {
   "cell_type": "code",
   "execution_count": 35,
   "metadata": {
    "ExecuteTime": {
     "end_time": "2020-12-26T17:43:15.808283Z",
     "start_time": "2020-12-26T17:43:15.803789Z"
    }
   },
   "outputs": [],
   "source": [
    "maxfunds_country.reset_index(level=0,inplace=True)"
   ]
  },
  {
   "cell_type": "markdown",
   "metadata": {},
   "source": [
    "## Top nine countries (top9) with funding type = 'venture'"
   ]
  },
  {
   "cell_type": "code",
   "execution_count": 36,
   "metadata": {
    "ExecuteTime": {
     "end_time": "2020-12-26T17:43:15.815937Z",
     "start_time": "2020-12-26T17:43:15.810088Z"
    }
   },
   "outputs": [],
   "source": [
    "# Filter for total funds made in the funding type venture for the top 9 countries\n",
    "top9 = maxfunds_country[maxfunds_country['funding_round_type']=='venture'].iloc[0:9]\n",
    "top9.reset_index(level=0,inplace = True)"
   ]
  },
  {
   "cell_type": "markdown",
   "metadata": {},
   "source": [
    "### Add flag: Is English official language?"
   ]
  },
  {
   "cell_type": "markdown",
   "metadata": {},
   "source": [
    "Reference link: https://en.wikipedia.org/wiki/List_of_territorial_entities_where_English_is_an_official_language"
   ]
  },
  {
   "cell_type": "code",
   "execution_count": 37,
   "metadata": {
    "ExecuteTime": {
     "end_time": "2020-12-26T17:43:15.823100Z",
     "start_time": "2020-12-26T17:43:15.818233Z"
    }
   },
   "outputs": [],
   "source": [
    "# Set the list of countries with English as official language (extracted from the wiki link mentioned above)\n",
    "countries_ENG_official = ['AUS','NZL','GBR','USA','ATG','BHS','BRB','BLZ','BWA','BDI','CMR','CAN','DMA','SWZ','FJI','GMB','GHA','GRD','GUY','IND','IRL','JAM','KEN','KIR','LSO','LBR','MWI','MLT','MHL','MUS','FSM','NAM','NRU','NGA','PAK','PLW','PNG','PHL','RWA','KNA','LCA','VCT','WSM','SYC','SLE','SGP','SLB','ZAF','SSD','SDN','TZA','TON','TTO','TUV','UGA','VUT','ZMB','ZWE']"
   ]
  },
  {
   "cell_type": "code",
   "execution_count": 38,
   "metadata": {
    "ExecuteTime": {
     "end_time": "2020-12-26T17:43:15.883681Z",
     "start_time": "2020-12-26T17:43:15.826844Z"
    }
   },
   "outputs": [],
   "source": [
    "# Add a flag to indicate if English is an official language in that country\n",
    "top9['is_ENG_official'] = top9['country_code'].apply(lambda x:x in countries_ENG_official)"
   ]
  },
  {
   "cell_type": "code",
   "execution_count": 39,
   "metadata": {
    "ExecuteTime": {
     "end_time": "2020-12-26T17:43:15.902288Z",
     "start_time": "2020-12-26T17:43:15.887177Z"
    },
    "scrolled": true
   },
   "outputs": [
    {
     "data": {
      "text/html": [
       "<div>\n",
       "<style scoped>\n",
       "    .dataframe tbody tr th:only-of-type {\n",
       "        vertical-align: middle;\n",
       "    }\n",
       "\n",
       "    .dataframe tbody tr th {\n",
       "        vertical-align: top;\n",
       "    }\n",
       "\n",
       "    .dataframe thead th {\n",
       "        text-align: right;\n",
       "    }\n",
       "</style>\n",
       "<table border=\"1\" class=\"dataframe\">\n",
       "  <thead>\n",
       "    <tr style=\"text-align: right;\">\n",
       "      <th></th>\n",
       "      <th>country_code</th>\n",
       "      <th>funding_round_type</th>\n",
       "      <th>raised_amount_usd</th>\n",
       "      <th>is_ENG_official</th>\n",
       "    </tr>\n",
       "  </thead>\n",
       "  <tbody>\n",
       "    <tr>\n",
       "      <th>0</th>\n",
       "      <td>USA</td>\n",
       "      <td>venture</td>\n",
       "      <td>422510842796.00000</td>\n",
       "      <td>True</td>\n",
       "    </tr>\n",
       "    <tr>\n",
       "      <th>1</th>\n",
       "      <td>CHN</td>\n",
       "      <td>venture</td>\n",
       "      <td>39835418773.00000</td>\n",
       "      <td>False</td>\n",
       "    </tr>\n",
       "    <tr>\n",
       "      <th>2</th>\n",
       "      <td>UNK_CTR</td>\n",
       "      <td>venture</td>\n",
       "      <td>25506108414.00000</td>\n",
       "      <td>False</td>\n",
       "    </tr>\n",
       "    <tr>\n",
       "      <th>3</th>\n",
       "      <td>GBR</td>\n",
       "      <td>venture</td>\n",
       "      <td>20245627416.00000</td>\n",
       "      <td>True</td>\n",
       "    </tr>\n",
       "    <tr>\n",
       "      <th>4</th>\n",
       "      <td>IND</td>\n",
       "      <td>venture</td>\n",
       "      <td>14391858718.00000</td>\n",
       "      <td>True</td>\n",
       "    </tr>\n",
       "    <tr>\n",
       "      <th>5</th>\n",
       "      <td>CAN</td>\n",
       "      <td>venture</td>\n",
       "      <td>9583332317.00000</td>\n",
       "      <td>True</td>\n",
       "    </tr>\n",
       "    <tr>\n",
       "      <th>6</th>\n",
       "      <td>FRA</td>\n",
       "      <td>venture</td>\n",
       "      <td>7259536732.00000</td>\n",
       "      <td>False</td>\n",
       "    </tr>\n",
       "    <tr>\n",
       "      <th>7</th>\n",
       "      <td>ISR</td>\n",
       "      <td>venture</td>\n",
       "      <td>6907514579.00000</td>\n",
       "      <td>False</td>\n",
       "    </tr>\n",
       "    <tr>\n",
       "      <th>8</th>\n",
       "      <td>DEU</td>\n",
       "      <td>venture</td>\n",
       "      <td>6346959822.00000</td>\n",
       "      <td>False</td>\n",
       "    </tr>\n",
       "  </tbody>\n",
       "</table>\n",
       "</div>"
      ],
      "text/plain": [
       "  country_code funding_round_type  raised_amount_usd  is_ENG_official\n",
       "0          USA            venture 422510842796.00000             True\n",
       "1          CHN            venture  39835418773.00000            False\n",
       "2      UNK_CTR            venture  25506108414.00000            False\n",
       "3          GBR            venture  20245627416.00000             True\n",
       "4          IND            venture  14391858718.00000             True\n",
       "5          CAN            venture   9583332317.00000             True\n",
       "6          FRA            venture   7259536732.00000            False\n",
       "7          ISR            venture   6907514579.00000            False\n",
       "8          DEU            venture   6346959822.00000            False"
      ]
     },
     "execution_count": 39,
     "metadata": {},
     "output_type": "execute_result"
    }
   ],
   "source": [
    "top9"
   ]
  },
  {
   "cell_type": "markdown",
   "metadata": {},
   "source": [
    "<b>ANSWER:</b> \n",
    "    \n",
    "Top 3 English speaking countries:\n",
    "1. USA\n",
    "2. GBR\n",
    "3. IND"
   ]
  },
  {
   "cell_type": "code",
   "execution_count": 40,
   "metadata": {
    "ExecuteTime": {
     "end_time": "2020-12-26T17:43:16.369495Z",
     "start_time": "2020-12-26T17:43:15.905828Z"
    }
   },
   "outputs": [
    {
     "data": {
      "image/png": "[encoded data removed]",
      "text/plain": [
       "<Figure size 864x576 with 1 Axes>"
      ]
     },
     "metadata": {
      "needs_background": "light"
     },
     "output_type": "display_data"
    }
   ],
   "source": [
    "# Plot a bar chart on the total investment amount. Log scale used as the investment in USA is very hight compared to other countries\n",
    "plt.figure(figsize=(12, 8))\n",
    "ax = sns.barplot(x=top9['country_code'], y=top9['raised_amount_usd'])\n",
    "ax.set(xlabel='Country', ylabel='Investment Amount (log scale)',title = 'Investment Amount (log scale) per Country')\n",
    "plt.yscale('log')\n",
    "plt.show()"
   ]
  },
  {
   "cell_type": "markdown",
   "metadata": {
    "ExecuteTime": {
     "end_time": "2020-12-07T03:24:30.290227Z",
     "start_time": "2020-12-07T03:24:30.287714Z"
    }
   },
   "source": [
    "# Checkpoint 4 - Sector Analysis"
   ]
  },
  {
   "cell_type": "code",
   "execution_count": 41,
   "metadata": {
    "ExecuteTime": {
     "end_time": "2020-12-26T17:43:16.385885Z",
     "start_time": "2020-12-26T17:43:16.371469Z"
    }
   },
   "outputs": [
    {
     "data": {
      "text/html": [
       "<div>\n",
       "<style scoped>\n",
       "    .dataframe tbody tr th:only-of-type {\n",
       "        vertical-align: middle;\n",
       "    }\n",
       "\n",
       "    .dataframe tbody tr th {\n",
       "        vertical-align: top;\n",
       "    }\n",
       "\n",
       "    .dataframe thead th {\n",
       "        text-align: right;\n",
       "    }\n",
       "</style>\n",
       "<table border=\"1\" class=\"dataframe\">\n",
       "  <thead>\n",
       "    <tr style=\"text-align: right;\">\n",
       "      <th></th>\n",
       "      <th>company_permalink</th>\n",
       "      <th>funding_round_permalink</th>\n",
       "      <th>funding_round_type</th>\n",
       "      <th>funding_round_code</th>\n",
       "      <th>funded_at</th>\n",
       "      <th>raised_amount_usd</th>\n",
       "      <th>permalink</th>\n",
       "      <th>name</th>\n",
       "      <th>homepage_url</th>\n",
       "      <th>category_list</th>\n",
       "      <th>status</th>\n",
       "      <th>country_code</th>\n",
       "      <th>state_code</th>\n",
       "      <th>region</th>\n",
       "      <th>city</th>\n",
       "      <th>founded_at</th>\n",
       "    </tr>\n",
       "  </thead>\n",
       "  <tbody>\n",
       "    <tr>\n",
       "      <th>0</th>\n",
       "      <td>/organization/-fame</td>\n",
       "      <td>/funding-round/9a01d05418af9f794eebff7ace91f638</td>\n",
       "      <td>venture</td>\n",
       "      <td>B</td>\n",
       "      <td>05-01-2015</td>\n",
       "      <td>10000000.00000</td>\n",
       "      <td>/organization/-fame</td>\n",
       "      <td>#fame</td>\n",
       "      <td>http://livfame.com</td>\n",
       "      <td>Media</td>\n",
       "      <td>operating</td>\n",
       "      <td>IND</td>\n",
       "      <td>16</td>\n",
       "      <td>Mumbai</td>\n",
       "      <td>Mumbai</td>\n",
       "      <td>NaN</td>\n",
       "    </tr>\n",
       "    <tr>\n",
       "      <th>2</th>\n",
       "      <td>/organization/-qounter</td>\n",
       "      <td>/funding-round/b44fbb94153f6cdef13083530bb48030</td>\n",
       "      <td>seed</td>\n",
       "      <td>NaN</td>\n",
       "      <td>01-03-2014</td>\n",
       "      <td>700000.00000</td>\n",
       "      <td>/organization/-qounter</td>\n",
       "      <td>:Qounter</td>\n",
       "      <td>http://www.qounter.com</td>\n",
       "      <td>Application Platforms|Real Time|Social Network...</td>\n",
       "      <td>operating</td>\n",
       "      <td>USA</td>\n",
       "      <td>DE</td>\n",
       "      <td>DE - Other</td>\n",
       "      <td>Delaware City</td>\n",
       "      <td>04-09-2014</td>\n",
       "    </tr>\n",
       "    <tr>\n",
       "      <th>3</th>\n",
       "      <td>/organization/-the-one-of-them-inc-</td>\n",
       "      <td>/funding-round/650b8f704416801069bb178a1418776b</td>\n",
       "      <td>venture</td>\n",
       "      <td>B</td>\n",
       "      <td>30-01-2014</td>\n",
       "      <td>3406878.00000</td>\n",
       "      <td>/organization/-the-one-of-them-inc-</td>\n",
       "      <td>(THE) ONE of THEM,Inc.</td>\n",
       "      <td>http://oneofthem.jp</td>\n",
       "      <td>Apps|Games|Mobile</td>\n",
       "      <td>operating</td>\n",
       "      <td>UNK_CTR</td>\n",
       "      <td>NaN</td>\n",
       "      <td>NaN</td>\n",
       "      <td>NaN</td>\n",
       "      <td>NaN</td>\n",
       "    </tr>\n",
       "  </tbody>\n",
       "</table>\n",
       "</div>"
      ],
      "text/plain": [
       "                     company_permalink  \\\n",
       "0                  /organization/-fame   \n",
       "2               /organization/-qounter   \n",
       "3  /organization/-the-one-of-them-inc-   \n",
       "\n",
       "                           funding_round_permalink funding_round_type  \\\n",
       "0  /funding-round/9a01d05418af9f794eebff7ace91f638            venture   \n",
       "2  /funding-round/b44fbb94153f6cdef13083530bb48030               seed   \n",
       "3  /funding-round/650b8f704416801069bb178a1418776b            venture   \n",
       "\n",
       "  funding_round_code   funded_at  raised_amount_usd  \\\n",
       "0                  B  05-01-2015     10000000.00000   \n",
       "2                NaN  01-03-2014       700000.00000   \n",
       "3                  B  30-01-2014      3406878.00000   \n",
       "\n",
       "                             permalink                    name  \\\n",
       "0                  /organization/-fame                   #fame   \n",
       "2               /organization/-qounter                :Qounter   \n",
       "3  /organization/-the-one-of-them-inc-  (THE) ONE of THEM,Inc.   \n",
       "\n",
       "             homepage_url                                      category_list  \\\n",
       "0      http://livfame.com                                              Media   \n",
       "2  http://www.qounter.com  Application Platforms|Real Time|Social Network...   \n",
       "3     http://oneofthem.jp                                  Apps|Games|Mobile   \n",
       "\n",
       "      status country_code state_code      region           city  founded_at  \n",
       "0  operating          IND         16      Mumbai         Mumbai         NaN  \n",
       "2  operating          USA         DE  DE - Other  Delaware City  04-09-2014  \n",
       "3  operating      UNK_CTR        NaN         NaN            NaN         NaN  "
      ]
     },
     "execution_count": 41,
     "metadata": {},
     "output_type": "execute_result"
    }
   ],
   "source": [
    "master_frame.head(3)"
   ]
  },
  {
   "cell_type": "markdown",
   "metadata": {},
   "source": [
    "## Extract the primary sector of each category list from the category_list column\n",
    "\n"
   ]
  },
  {
   "cell_type": "markdown",
   "metadata": {
    "ExecuteTime": {
     "end_time": "2020-12-25T06:40:03.264307Z",
     "start_time": "2020-12-25T06:40:03.250548Z"
    }
   },
   "source": [
    "First string before the vertical bar will be considered the primary sector"
   ]
  },
  {
   "cell_type": "code",
   "execution_count": 42,
   "metadata": {
    "ExecuteTime": {
     "end_time": "2020-12-26T17:43:16.446639Z",
     "start_time": "2020-12-26T17:43:16.387766Z"
    },
    "scrolled": false
   },
   "outputs": [],
   "source": [
    "master_frame['primary_sector'] = master_frame['category_list'].apply(lambda x: str(x).split('|')[0])"
   ]
  },
  {
   "cell_type": "markdown",
   "metadata": {},
   "source": [
    "## Mapping Cleanup: check if all the primary_sector entries are present in the mapping file"
   ]
  },
  {
   "cell_type": "code",
   "execution_count": 43,
   "metadata": {
    "ExecuteTime": {
     "end_time": "2020-12-26T17:43:16.465128Z",
     "start_time": "2020-12-26T17:43:16.449149Z"
    }
   },
   "outputs": [
    {
     "data": {
      "text/plain": [
       "{'Adaptive Equipment',\n",
       " 'Alternative Medicine',\n",
       " 'Analytics',\n",
       " 'Big Data Analytics',\n",
       " 'Biotechnology and Semiconductor',\n",
       " 'Business Analytics',\n",
       " 'Cannabis',\n",
       " 'Career Management',\n",
       " 'Cause Marketing',\n",
       " 'China Internet',\n",
       " 'Cloud Management',\n",
       " 'Contact Management',\n",
       " 'Darknet',\n",
       " 'Deep Information Technology',\n",
       " 'Digital Rights Management',\n",
       " 'Digital Signage',\n",
       " 'Document Management',\n",
       " 'Educational Games',\n",
       " 'Energy Management',\n",
       " 'English-Speaking',\n",
       " 'Enterprise Hardware',\n",
       " 'Event Management',\n",
       " 'Finance',\n",
       " 'Finance Technology',\n",
       " 'Financial Exchanges',\n",
       " 'Financial Services',\n",
       " 'Fleet Management',\n",
       " 'Generation Y-Z',\n",
       " 'Golf Equipment',\n",
       " 'Google Glass',\n",
       " 'Governance',\n",
       " 'GreenTech',\n",
       " 'Group Email',\n",
       " 'IT Management',\n",
       " 'Identity Management',\n",
       " 'Innovation Management',\n",
       " 'Intellectual Asset Management',\n",
       " 'Internet TV',\n",
       " 'Internet Technology',\n",
       " 'Investment Management',\n",
       " 'Journalism',\n",
       " 'Kinect',\n",
       " 'Knowledge Management',\n",
       " 'Lead Management',\n",
       " 'Lingerie',\n",
       " 'Medical Professionals',\n",
       " 'Mobile Analytics',\n",
       " 'Mobile Emergency&Health',\n",
       " 'Nanotechnology',\n",
       " 'Natural Gas Uses',\n",
       " 'Natural Language Processing',\n",
       " 'Natural Resources',\n",
       " 'Navigation',\n",
       " 'Nightlife',\n",
       " 'Personal Branding',\n",
       " 'Personal Data',\n",
       " 'Personal Finance',\n",
       " 'Personal Health',\n",
       " 'Personalization',\n",
       " 'Predictive Analytics',\n",
       " 'Product Search',\n",
       " 'Professional Networking',\n",
       " 'Professional Services',\n",
       " 'Project Management',\n",
       " 'Promotional',\n",
       " 'Property Management',\n",
       " 'Psychology',\n",
       " 'Racing',\n",
       " 'Rapidly Expanding',\n",
       " 'Real Estate Investors',\n",
       " 'Registrars',\n",
       " 'Retirement',\n",
       " 'Risk Management',\n",
       " 'Self Development',\n",
       " 'Sex Industry',\n",
       " 'Skill Gaming',\n",
       " 'Social Media Advertising',\n",
       " 'Social Media Management',\n",
       " 'Spas',\n",
       " 'Specialty Retail',\n",
       " 'Sponsorship',\n",
       " 'Subscription Businesses',\n",
       " 'Supply Chain Management',\n",
       " 'Swimming',\n",
       " 'Task Management',\n",
       " 'Testing',\n",
       " 'Toys',\n",
       " 'UNK_CAT',\n",
       " 'Vacation Rentals',\n",
       " 'Waste Management'}"
      ]
     },
     "execution_count": 43,
     "metadata": {},
     "output_type": "execute_result"
    }
   ],
   "source": [
    "set(master_frame['primary_sector']).difference(set(mapping['category_list']))"
   ]
  },
  {
   "cell_type": "code",
   "execution_count": 44,
   "metadata": {
    "ExecuteTime": {
     "end_time": "2020-12-26T17:43:16.482690Z",
     "start_time": "2020-12-26T17:43:16.467526Z"
    }
   },
   "outputs": [
    {
     "data": {
      "text/plain": [
       "{'0notechnology',\n",
       " '0tural Language Processing',\n",
       " '0tural Resources',\n",
       " '0vigation',\n",
       " 'A0lytics',\n",
       " 'Alter0tive Medicine',\n",
       " 'Big Data A0lytics',\n",
       " 'Business A0lytics',\n",
       " 'Can0bis',\n",
       " 'Career Ma0gement',\n",
       " 'Chi0 Internet',\n",
       " 'Cloud Ma0gement',\n",
       " 'Contact Ma0gement',\n",
       " 'Digital Rights Ma0gement',\n",
       " 'Digital Sig0ge',\n",
       " 'Document Ma0gement',\n",
       " 'Educatio0l Games',\n",
       " 'Energy Ma0gement',\n",
       " 'Event Ma0gement',\n",
       " 'Fi0nce',\n",
       " 'Fi0nce Technology',\n",
       " 'Fi0ncial Exchanges',\n",
       " 'Fi0ncial Services',\n",
       " 'Film Distribution',\n",
       " 'Fleet Ma0gement',\n",
       " 'Flowers',\n",
       " 'Gover0nce',\n",
       " 'IT Ma0gement',\n",
       " 'Identity Ma0gement',\n",
       " 'Innovation Ma0gement',\n",
       " 'Intellectual Asset Ma0gement',\n",
       " 'Investment Ma0gement',\n",
       " 'Jour0lism',\n",
       " 'Knowledge Ma0gement',\n",
       " 'Lead Ma0gement',\n",
       " 'Lotteries',\n",
       " 'Low Bid Auctions',\n",
       " 'Medical Professio0ls',\n",
       " 'Mobile A0lytics',\n",
       " 'Multi-level Marketing',\n",
       " 'Perso0l Branding',\n",
       " 'Perso0l Data',\n",
       " 'Perso0l Fi0nce',\n",
       " 'Perso0l Health',\n",
       " 'Perso0lization',\n",
       " 'Pervasive Computing',\n",
       " 'Plumbers',\n",
       " 'Predictive A0lytics',\n",
       " 'Professio0l Networking',\n",
       " 'Professio0l Services',\n",
       " 'Project Ma0gement',\n",
       " 'Promotio0l',\n",
       " 'Property Ma0gement',\n",
       " 'Risk Ma0gement',\n",
       " 'Social Media Ma0gement',\n",
       " 'Social Recruiting',\n",
       " 'Supply Chain Ma0gement',\n",
       " 'Task Ma0gement',\n",
       " 'Veteri0ry',\n",
       " 'Virtual Workforces',\n",
       " 'Waste Ma0gement',\n",
       " nan}"
      ]
     },
     "execution_count": 44,
     "metadata": {},
     "output_type": "execute_result"
    }
   ],
   "source": [
    "set(mapping['category_list']).difference(set(master_frame['primary_sector']))"
   ]
  },
  {
   "cell_type": "markdown",
   "metadata": {},
   "source": [
    "CONCLUSION: na in mappings file has been replaced with 0. Put back na and change to lower case for sector name in both the dataframes"
   ]
  },
  {
   "cell_type": "markdown",
   "metadata": {},
   "source": [
    "### Fill NAs in mapping file with UNK_CAT"
   ]
  },
  {
   "cell_type": "code",
   "execution_count": 45,
   "metadata": {
    "ExecuteTime": {
     "end_time": "2020-12-26T17:43:16.489651Z",
     "start_time": "2020-12-26T17:43:16.485567Z"
    }
   },
   "outputs": [],
   "source": [
    "mapping['category_list']=mapping['category_list'].fillna('UNK_CAT')"
   ]
  },
  {
   "cell_type": "markdown",
   "metadata": {},
   "source": [
    "### Convert category_list to lower case in mapping & replace 0 with na"
   ]
  },
  {
   "cell_type": "code",
   "execution_count": 46,
   "metadata": {
    "ExecuteTime": {
     "end_time": "2020-12-26T17:43:16.499294Z",
     "start_time": "2020-12-26T17:43:16.493358Z"
    }
   },
   "outputs": [],
   "source": [
    "mapping['category_list'] = mapping['category_list'].apply(lambda x:str.lower(x.replace('0','na')))"
   ]
  },
  {
   "cell_type": "markdown",
   "metadata": {},
   "source": [
    "### Convert primary_sector to lower case in master frame"
   ]
  },
  {
   "cell_type": "code",
   "execution_count": 47,
   "metadata": {
    "ExecuteTime": {
     "end_time": "2020-12-26T17:43:16.545622Z",
     "start_time": "2020-12-26T17:43:16.501710Z"
    }
   },
   "outputs": [],
   "source": [
    "master_frame['primary_sector'] = master_frame['primary_sector'].apply(lambda x:str.lower(x))"
   ]
  },
  {
   "cell_type": "markdown",
   "metadata": {
    "ExecuteTime": {
     "end_time": "2020-12-25T06:45:13.951422Z",
     "start_time": "2020-12-25T06:45:13.948851Z"
    }
   },
   "source": [
    "### Check the difference between category names in master frame and mapping dataframes"
   ]
  },
  {
   "cell_type": "code",
   "execution_count": 48,
   "metadata": {
    "ExecuteTime": {
     "end_time": "2020-12-26T17:43:16.571454Z",
     "start_time": "2020-12-26T17:43:16.547905Z"
    },
    "scrolled": true
   },
   "outputs": [
    {
     "data": {
      "text/plain": [
       "{'adaptive equipment',\n",
       " 'biotechnology and semiconductor',\n",
       " 'cause marketing',\n",
       " 'darknet',\n",
       " 'deep information technology',\n",
       " 'english-speaking',\n",
       " 'enterprise 2.0',\n",
       " 'enterprise hardware',\n",
       " 'generation y-z',\n",
       " 'golf equipment',\n",
       " 'google glass',\n",
       " 'greentech',\n",
       " 'group email',\n",
       " 'internet technology',\n",
       " 'internet tv',\n",
       " 'kinect',\n",
       " 'lingerie',\n",
       " 'mobile emergency&health',\n",
       " 'natural gas uses',\n",
       " 'nightlife',\n",
       " 'product search',\n",
       " 'psychology',\n",
       " 'racing',\n",
       " 'rapidly expanding',\n",
       " 'real estate investors',\n",
       " 'registrars',\n",
       " 'retirement',\n",
       " 'self development',\n",
       " 'sex industry',\n",
       " 'skill gaming',\n",
       " 'social media advertising',\n",
       " 'spas',\n",
       " 'specialty retail',\n",
       " 'sponsorship',\n",
       " 'subscription businesses',\n",
       " 'swimming',\n",
       " 'testing',\n",
       " 'toys',\n",
       " 'vacation rentals'}"
      ]
     },
     "execution_count": 48,
     "metadata": {},
     "output_type": "execute_result"
    }
   ],
   "source": [
    "set(master_frame['primary_sector']).difference(set(mapping['category_list']))"
   ]
  },
  {
   "cell_type": "code",
   "execution_count": 49,
   "metadata": {
    "ExecuteTime": {
     "end_time": "2020-12-26T17:43:16.591645Z",
     "start_time": "2020-12-26T17:43:16.573803Z"
    }
   },
   "outputs": [
    {
     "data": {
      "text/plain": [
       "{'enterprise 2.na',\n",
       " 'film distribution',\n",
       " 'flowers',\n",
       " 'lotteries',\n",
       " 'low bid auctions',\n",
       " 'multi-level marketing',\n",
       " 'pervasive computing',\n",
       " 'plumbers',\n",
       " 'social recruiting',\n",
       " 'veterinary',\n",
       " 'virtual workforces'}"
      ]
     },
     "execution_count": 49,
     "metadata": {},
     "output_type": "execute_result"
    }
   ],
   "source": [
    "set(mapping['category_list']).difference(set(master_frame['primary_sector']))"
   ]
  },
  {
   "cell_type": "markdown",
   "metadata": {},
   "source": [
    "### Fix categories where \"0\" was incorrectly replaced with na"
   ]
  },
  {
   "cell_type": "code",
   "execution_count": 50,
   "metadata": {
    "ExecuteTime": {
     "end_time": "2020-12-26T17:43:16.599826Z",
     "start_time": "2020-12-26T17:43:16.593991Z"
    }
   },
   "outputs": [],
   "source": [
    "mapping['category_list'] = mapping['category_list'].replace('enterprise 2.na','enterprise 2.0')"
   ]
  },
  {
   "cell_type": "markdown",
   "metadata": {},
   "source": [
    "## Use the mapping file 'mapping.csv' to map each primary sector to one of the eight main sectors\n"
   ]
  },
  {
   "cell_type": "code",
   "execution_count": 51,
   "metadata": {
    "ExecuteTime": {
     "end_time": "2020-12-26T17:43:16.817387Z",
     "start_time": "2020-12-26T17:43:16.602755Z"
    }
   },
   "outputs": [],
   "source": [
    "# Mapping file has the data one-hot encoded\n",
    "# Reverse of one-hot encoding done to get the category\n",
    "\n",
    "# Function to get column name if value is 1\n",
    "def get_main_sector_name(row):\n",
    "    return(row.index[row.apply(lambda x: x==1)][0])\n",
    "\n",
    "# create a new column with main_sector_name in the mapping df\n",
    "mapping['main_sector'] = mapping.apply(lambda row:get_main_sector_name(row), axis=1)"
   ]
  },
  {
   "cell_type": "code",
   "execution_count": 52,
   "metadata": {
    "ExecuteTime": {
     "end_time": "2020-12-26T17:43:16.830524Z",
     "start_time": "2020-12-26T17:43:16.819366Z"
    }
   },
   "outputs": [
    {
     "data": {
      "text/html": [
       "<div>\n",
       "<style scoped>\n",
       "    .dataframe tbody tr th:only-of-type {\n",
       "        vertical-align: middle;\n",
       "    }\n",
       "\n",
       "    .dataframe tbody tr th {\n",
       "        vertical-align: top;\n",
       "    }\n",
       "\n",
       "    .dataframe thead th {\n",
       "        text-align: right;\n",
       "    }\n",
       "</style>\n",
       "<table border=\"1\" class=\"dataframe\">\n",
       "  <thead>\n",
       "    <tr style=\"text-align: right;\">\n",
       "      <th></th>\n",
       "      <th>category_list</th>\n",
       "      <th>Automotive &amp; Sports</th>\n",
       "      <th>Blanks</th>\n",
       "      <th>Cleantech / Semiconductors</th>\n",
       "      <th>Entertainment</th>\n",
       "      <th>Health</th>\n",
       "      <th>Manufacturing</th>\n",
       "      <th>News, Search and Messaging</th>\n",
       "      <th>Others</th>\n",
       "      <th>Social, Finance, Analytics, Advertising</th>\n",
       "      <th>main_sector</th>\n",
       "    </tr>\n",
       "  </thead>\n",
       "  <tbody>\n",
       "    <tr>\n",
       "      <th>0</th>\n",
       "      <td>unk_cat</td>\n",
       "      <td>0</td>\n",
       "      <td>1</td>\n",
       "      <td>0</td>\n",
       "      <td>0</td>\n",
       "      <td>0</td>\n",
       "      <td>0</td>\n",
       "      <td>0</td>\n",
       "      <td>0</td>\n",
       "      <td>0</td>\n",
       "      <td>Blanks</td>\n",
       "    </tr>\n",
       "    <tr>\n",
       "      <th>1</th>\n",
       "      <td>3d</td>\n",
       "      <td>0</td>\n",
       "      <td>0</td>\n",
       "      <td>0</td>\n",
       "      <td>0</td>\n",
       "      <td>0</td>\n",
       "      <td>1</td>\n",
       "      <td>0</td>\n",
       "      <td>0</td>\n",
       "      <td>0</td>\n",
       "      <td>Manufacturing</td>\n",
       "    </tr>\n",
       "    <tr>\n",
       "      <th>2</th>\n",
       "      <td>3d printing</td>\n",
       "      <td>0</td>\n",
       "      <td>0</td>\n",
       "      <td>0</td>\n",
       "      <td>0</td>\n",
       "      <td>0</td>\n",
       "      <td>1</td>\n",
       "      <td>0</td>\n",
       "      <td>0</td>\n",
       "      <td>0</td>\n",
       "      <td>Manufacturing</td>\n",
       "    </tr>\n",
       "    <tr>\n",
       "      <th>3</th>\n",
       "      <td>3d technology</td>\n",
       "      <td>0</td>\n",
       "      <td>0</td>\n",
       "      <td>0</td>\n",
       "      <td>0</td>\n",
       "      <td>0</td>\n",
       "      <td>1</td>\n",
       "      <td>0</td>\n",
       "      <td>0</td>\n",
       "      <td>0</td>\n",
       "      <td>Manufacturing</td>\n",
       "    </tr>\n",
       "    <tr>\n",
       "      <th>4</th>\n",
       "      <td>accounting</td>\n",
       "      <td>0</td>\n",
       "      <td>0</td>\n",
       "      <td>0</td>\n",
       "      <td>0</td>\n",
       "      <td>0</td>\n",
       "      <td>0</td>\n",
       "      <td>0</td>\n",
       "      <td>0</td>\n",
       "      <td>1</td>\n",
       "      <td>Social, Finance, Analytics, Advertising</td>\n",
       "    </tr>\n",
       "  </tbody>\n",
       "</table>\n",
       "</div>"
      ],
      "text/plain": [
       "   category_list  Automotive & Sports  Blanks  Cleantech / Semiconductors  \\\n",
       "0        unk_cat                    0       1                           0   \n",
       "1             3d                    0       0                           0   \n",
       "2    3d printing                    0       0                           0   \n",
       "3  3d technology                    0       0                           0   \n",
       "4     accounting                    0       0                           0   \n",
       "\n",
       "   Entertainment  Health  Manufacturing  News, Search and Messaging  Others  \\\n",
       "0              0       0              0                           0       0   \n",
       "1              0       0              1                           0       0   \n",
       "2              0       0              1                           0       0   \n",
       "3              0       0              1                           0       0   \n",
       "4              0       0              0                           0       0   \n",
       "\n",
       "   Social, Finance, Analytics, Advertising  \\\n",
       "0                                        0   \n",
       "1                                        0   \n",
       "2                                        0   \n",
       "3                                        0   \n",
       "4                                        1   \n",
       "\n",
       "                               main_sector  \n",
       "0                                   Blanks  \n",
       "1                            Manufacturing  \n",
       "2                            Manufacturing  \n",
       "3                            Manufacturing  \n",
       "4  Social, Finance, Analytics, Advertising  "
      ]
     },
     "metadata": {},
     "output_type": "display_data"
    }
   ],
   "source": [
    "display(mapping.head(5))"
   ]
  },
  {
   "cell_type": "code",
   "execution_count": 53,
   "metadata": {
    "ExecuteTime": {
     "end_time": "2020-12-26T17:43:16.916130Z",
     "start_time": "2020-12-26T17:43:16.832514Z"
    }
   },
   "outputs": [],
   "source": [
    "master_frame_with_sectors = pd.merge(master_frame,mapping[['category_list','main_sector']],how='left',left_on='primary_sector',right_on='category_list')"
   ]
  },
  {
   "cell_type": "code",
   "execution_count": 54,
   "metadata": {
    "ExecuteTime": {
     "end_time": "2020-12-26T17:43:16.923753Z",
     "start_time": "2020-12-26T17:43:16.918424Z"
    }
   },
   "outputs": [
    {
     "data": {
      "text/plain": [
       "(94959, 19)"
      ]
     },
     "execution_count": 54,
     "metadata": {},
     "output_type": "execute_result"
    }
   ],
   "source": [
    "master_frame_with_sectors.shape"
   ]
  },
  {
   "cell_type": "markdown",
   "metadata": {},
   "source": [
    "### Fill NAs in main_sector with \"unknown\""
   ]
  },
  {
   "cell_type": "code",
   "execution_count": 55,
   "metadata": {
    "ExecuteTime": {
     "end_time": "2020-12-26T17:43:16.936666Z",
     "start_time": "2020-12-26T17:43:16.926501Z"
    }
   },
   "outputs": [],
   "source": [
    "master_frame_with_sectors['main_sector'] = master_frame_with_sectors['main_sector'].fillna('unknown')"
   ]
  },
  {
   "cell_type": "markdown",
   "metadata": {},
   "source": [
    "# Checkpoint 5 - Sector Analysis 2"
   ]
  },
  {
   "cell_type": "markdown",
   "metadata": {},
   "source": [
    "Filter on \n",
    "1. Funding Type = \"venture\"\n",
    "2. Investment range = 5-15 M USD"
   ]
  },
  {
   "cell_type": "code",
   "execution_count": 56,
   "metadata": {
    "ExecuteTime": {
     "end_time": "2020-12-26T17:43:17.012190Z",
     "start_time": "2020-12-26T17:43:16.939317Z"
    }
   },
   "outputs": [],
   "source": [
    "master_frame_FT_InvestmentRange= master_frame_with_sectors[(master_frame_with_sectors['funding_round_type'] == 'venture') & (master_frame_with_sectors['raised_amount_usd'] >= 5000000) & (master_frame_with_sectors['raised_amount_usd'] <= 15000000)]"
   ]
  },
  {
   "cell_type": "markdown",
   "metadata": {
    "ExecuteTime": {
     "end_time": "2020-12-21T15:03:34.776702Z",
     "start_time": "2020-12-21T15:03:34.771784Z"
    }
   },
   "source": [
    "Filter on\n",
    "Top 3 English speaking countries - 'USA', 'GBR', 'IND'"
   ]
  },
  {
   "cell_type": "code",
   "execution_count": 57,
   "metadata": {
    "ExecuteTime": {
     "end_time": "2020-12-26T17:43:17.033702Z",
     "start_time": "2020-12-26T17:43:17.015243Z"
    }
   },
   "outputs": [],
   "source": [
    "D1 = master_frame_FT_InvestmentRange[master_frame_FT_InvestmentRange['country_code'] == 'USA']\n",
    "D2 = master_frame_FT_InvestmentRange[master_frame_FT_InvestmentRange['country_code'] == 'GBR']\n",
    "D3 = master_frame_FT_InvestmentRange[master_frame_FT_InvestmentRange['country_code'] == 'IND']"
   ]
  },
  {
   "cell_type": "code",
   "execution_count": 58,
   "metadata": {
    "ExecuteTime": {
     "end_time": "2020-12-26T17:43:17.040864Z",
     "start_time": "2020-12-26T17:43:17.036786Z"
    }
   },
   "outputs": [
    {
     "name": "stdout",
     "output_type": "stream",
     "text": [
      "Shape D1: (12150, 19)\n",
      "Shape D2: (628, 19)\n",
      "Shape D3: (330, 19)\n"
     ]
    }
   ],
   "source": [
    "print(f\"Shape D1: {D1.shape}\")\n",
    "print(f\"Shape D2: {D2.shape}\")\n",
    "print(f\"Shape D3: {D3.shape}\")\n"
   ]
  },
  {
   "cell_type": "markdown",
   "metadata": {
    "ExecuteTime": {
     "end_time": "2020-12-07T04:30:47.802742Z",
     "start_time": "2020-12-07T04:30:47.799778Z"
    }
   },
   "source": [
    "## Total No. of Investments in each country for type Venture and funds between 5 million & 15 million"
   ]
  },
  {
   "cell_type": "code",
   "execution_count": 59,
   "metadata": {
    "ExecuteTime": {
     "end_time": "2020-12-26T17:43:17.048108Z",
     "start_time": "2020-12-26T17:43:17.043597Z"
    }
   },
   "outputs": [
    {
     "name": "stdout",
     "output_type": "stream",
     "text": [
      "Total No. of Investments - USA:12150\n",
      "Total No. of Investments - GBR:628\n",
      "Total No. of Investments - IND:330\n"
     ]
    }
   ],
   "source": [
    "print(f\"Total No. of Investments - USA:{D1.shape[0]}\")\n",
    "print(f\"Total No. of Investments - GBR:{D2.shape[0]}\")\n",
    "print(f\"Total No. of Investments - IND:{D3.shape[0]}\")"
   ]
  },
  {
   "cell_type": "markdown",
   "metadata": {},
   "source": [
    "## Total Amount of Investment"
   ]
  },
  {
   "cell_type": "code",
   "execution_count": 60,
   "metadata": {
    "ExecuteTime": {
     "end_time": "2020-12-26T17:43:17.056413Z",
     "start_time": "2020-12-26T17:43:17.050237Z"
    }
   },
   "outputs": [
    {
     "name": "stdout",
     "output_type": "stream",
     "text": [
      "Total Amount of Investment - USA:108531347515.0\n",
      "Total Amount of Investment - GBR:5436843539.0\n",
      "Total Amount of Investment - IND:2976543602.0\n"
     ]
    }
   ],
   "source": [
    "print(f\"Total Amount of Investment - USA:{D1['raised_amount_usd'].sum()}\")\n",
    "print(f\"Total Amount of Investment - GBR:{D2['raised_amount_usd'].sum()}\")\n",
    "print(f\"Total Amount of Investment - IND:{D3['raised_amount_usd'].sum()}\")"
   ]
  },
  {
   "cell_type": "markdown",
   "metadata": {},
   "source": [
    "## Investments per main sector in each country for type Venture and funds between 5 million & 15 million"
   ]
  },
  {
   "cell_type": "markdown",
   "metadata": {
    "ExecuteTime": {
     "end_time": "2020-12-08T03:19:54.498761Z",
     "start_time": "2020-12-08T03:19:54.496058Z"
    }
   },
   "source": [
    "### Get no. of investments per main sector - USA"
   ]
  },
  {
   "cell_type": "code",
   "execution_count": 61,
   "metadata": {
    "ExecuteTime": {
     "end_time": "2020-12-26T17:43:17.068488Z",
     "start_time": "2020-12-26T17:43:17.058880Z"
    }
   },
   "outputs": [
    {
     "data": {
      "text/plain": [
       "main_sector\n",
       "Others                                     2950\n",
       "Social, Finance, Analytics, Advertising    2714\n",
       "Cleantech / Semiconductors                 2350\n",
       "News, Search and Messaging                 1583\n",
       "Health                                      909\n",
       "Manufacturing                               799\n",
       "Entertainment                               591\n",
       "Automotive & Sports                         167\n",
       "Blanks                                       86\n",
       "unknown                                       1\n",
       "Name: raised_amount_usd, dtype: int64"
      ]
     },
     "execution_count": 61,
     "metadata": {},
     "output_type": "execute_result"
    }
   ],
   "source": [
    "D1sectors = D1.groupby('main_sector')['raised_amount_usd'].count().sort_values(ascending=False)\n",
    "D1sectors"
   ]
  },
  {
   "cell_type": "markdown",
   "metadata": {},
   "source": [
    "### Get distribution per sector in % - USA"
   ]
  },
  {
   "cell_type": "code",
   "execution_count": 62,
   "metadata": {
    "ExecuteTime": {
     "end_time": "2020-12-26T17:43:17.084014Z",
     "start_time": "2020-12-26T17:43:17.070621Z"
    }
   },
   "outputs": [
    {
     "data": {
      "text/html": [
       "<div>\n",
       "<style scoped>\n",
       "    .dataframe tbody tr th:only-of-type {\n",
       "        vertical-align: middle;\n",
       "    }\n",
       "\n",
       "    .dataframe tbody tr th {\n",
       "        vertical-align: top;\n",
       "    }\n",
       "\n",
       "    .dataframe thead th {\n",
       "        text-align: right;\n",
       "    }\n",
       "</style>\n",
       "<table border=\"1\" class=\"dataframe\">\n",
       "  <thead>\n",
       "    <tr style=\"text-align: right;\">\n",
       "      <th></th>\n",
       "      <th>raised_amount_usd</th>\n",
       "    </tr>\n",
       "    <tr>\n",
       "      <th>main_sector</th>\n",
       "      <th></th>\n",
       "    </tr>\n",
       "  </thead>\n",
       "  <tbody>\n",
       "    <tr>\n",
       "      <th>Others</th>\n",
       "      <td>24.27984</td>\n",
       "    </tr>\n",
       "    <tr>\n",
       "      <th>Social, Finance, Analytics, Advertising</th>\n",
       "      <td>22.33745</td>\n",
       "    </tr>\n",
       "    <tr>\n",
       "      <th>Cleantech / Semiconductors</th>\n",
       "      <td>19.34156</td>\n",
       "    </tr>\n",
       "    <tr>\n",
       "      <th>News, Search and Messaging</th>\n",
       "      <td>13.02881</td>\n",
       "    </tr>\n",
       "    <tr>\n",
       "      <th>Health</th>\n",
       "      <td>7.48148</td>\n",
       "    </tr>\n",
       "    <tr>\n",
       "      <th>Manufacturing</th>\n",
       "      <td>6.57613</td>\n",
       "    </tr>\n",
       "    <tr>\n",
       "      <th>Entertainment</th>\n",
       "      <td>4.86420</td>\n",
       "    </tr>\n",
       "    <tr>\n",
       "      <th>Automotive &amp; Sports</th>\n",
       "      <td>1.37449</td>\n",
       "    </tr>\n",
       "    <tr>\n",
       "      <th>Blanks</th>\n",
       "      <td>0.70782</td>\n",
       "    </tr>\n",
       "    <tr>\n",
       "      <th>unknown</th>\n",
       "      <td>0.00823</td>\n",
       "    </tr>\n",
       "  </tbody>\n",
       "</table>\n",
       "</div>"
      ],
      "text/plain": [
       "                                         raised_amount_usd\n",
       "main_sector                                               \n",
       "Others                                            24.27984\n",
       "Social, Finance, Analytics, Advertising           22.33745\n",
       "Cleantech / Semiconductors                        19.34156\n",
       "News, Search and Messaging                        13.02881\n",
       "Health                                             7.48148\n",
       "Manufacturing                                      6.57613\n",
       "Entertainment                                      4.86420\n",
       "Automotive & Sports                                1.37449\n",
       "Blanks                                             0.70782\n",
       "unknown                                            0.00823"
      ]
     },
     "execution_count": 62,
     "metadata": {},
     "output_type": "execute_result"
    }
   ],
   "source": [
    "D1USA = pd.DataFrame(D1.groupby('main_sector')['raised_amount_usd'].count().sort_values(ascending=False)/D1.groupby('main_sector')['raised_amount_usd'].count().sum()*100)\n",
    "D1USA"
   ]
  },
  {
   "cell_type": "code",
   "execution_count": 63,
   "metadata": {
    "ExecuteTime": {
     "end_time": "2020-12-26T17:43:17.549886Z",
     "start_time": "2020-12-26T17:43:17.087463Z"
    }
   },
   "outputs": [
    {
     "data": {
      "image/png": "[encoded data removed]",
      "text/plain": [
       "<Figure size 1440x720 with 1 Axes>"
      ]
     },
     "metadata": {},
     "output_type": "display_data"
    }
   ],
   "source": [
    "import matplotlib.pyplot as plt\n",
    "\n",
    "f, ax = plt.subplots(figsize=(20,10))\n",
    "plt.pie(D1USA['raised_amount_usd'],  startangle=90, autopct='%1.0f%%')\n",
    "plt.legend(D1USA.index, loc=\"lower right\", title = 'Main Sector')\n",
    "\n",
    "plt.axis('equal')\n",
    "plt.title('Investment amount distribution per sector (venture) - USA')\n",
    "\n",
    "plt.show()"
   ]
  },
  {
   "cell_type": "markdown",
   "metadata": {},
   "source": [
    "### Total Investment Amount per Sector - USA"
   ]
  },
  {
   "cell_type": "code",
   "execution_count": 64,
   "metadata": {
    "ExecuteTime": {
     "end_time": "2020-12-26T17:43:17.558716Z",
     "start_time": "2020-12-26T17:43:17.551911Z"
    }
   },
   "outputs": [
    {
     "data": {
      "text/plain": [
       "main_sector\n",
       "Others                                    26321007002.00000\n",
       "Social, Finance, Analytics, Advertising   23807376964.00000\n",
       "Cleantech / Semiconductors                21633430822.00000\n",
       "News, Search and Messaging                13971567428.00000\n",
       "Health                                     8211859357.00000\n",
       "Manufacturing                              7258553378.00000\n",
       "Entertainment                              5099197982.00000\n",
       "Automotive & Sports                        1454104361.00000\n",
       "Blanks                                      764763292.00000\n",
       "unknown                                       9486929.00000\n",
       "Name: raised_amount_usd, dtype: float64"
      ]
     },
     "execution_count": 64,
     "metadata": {},
     "output_type": "execute_result"
    }
   ],
   "source": [
    "D1.groupby('main_sector')['raised_amount_usd'].sum().sort_values(ascending=False)"
   ]
  },
  {
   "cell_type": "markdown",
   "metadata": {},
   "source": [
    "### Get no. of investments per main sector - GBR"
   ]
  },
  {
   "cell_type": "code",
   "execution_count": 65,
   "metadata": {
    "ExecuteTime": {
     "end_time": "2020-12-26T17:43:17.567129Z",
     "start_time": "2020-12-26T17:43:17.560536Z"
    },
    "scrolled": true
   },
   "outputs": [
    {
     "data": {
      "text/plain": [
       "main_sector\n",
       "Others                                     147\n",
       "Social, Finance, Analytics, Advertising    133\n",
       "Cleantech / Semiconductors                 130\n",
       "News, Search and Messaging                  73\n",
       "Entertainment                               56\n",
       "Manufacturing                               42\n",
       "Health                                      24\n",
       "Automotive & Sports                         16\n",
       "Blanks                                       7\n",
       "Name: raised_amount_usd, dtype: int64"
      ]
     },
     "execution_count": 65,
     "metadata": {},
     "output_type": "execute_result"
    }
   ],
   "source": [
    "D2sectors = D2.groupby('main_sector')['raised_amount_usd'].count().sort_values(ascending=False)\n",
    "D2sectors\n"
   ]
  },
  {
   "cell_type": "markdown",
   "metadata": {},
   "source": [
    "### Get distribution per sector in % - GBR"
   ]
  },
  {
   "cell_type": "code",
   "execution_count": 66,
   "metadata": {
    "ExecuteTime": {
     "end_time": "2020-12-26T17:43:17.579855Z",
     "start_time": "2020-12-26T17:43:17.568615Z"
    }
   },
   "outputs": [
    {
     "data": {
      "text/html": [
       "<div>\n",
       "<style scoped>\n",
       "    .dataframe tbody tr th:only-of-type {\n",
       "        vertical-align: middle;\n",
       "    }\n",
       "\n",
       "    .dataframe tbody tr th {\n",
       "        vertical-align: top;\n",
       "    }\n",
       "\n",
       "    .dataframe thead th {\n",
       "        text-align: right;\n",
       "    }\n",
       "</style>\n",
       "<table border=\"1\" class=\"dataframe\">\n",
       "  <thead>\n",
       "    <tr style=\"text-align: right;\">\n",
       "      <th></th>\n",
       "      <th>raised_amount_usd</th>\n",
       "    </tr>\n",
       "    <tr>\n",
       "      <th>main_sector</th>\n",
       "      <th></th>\n",
       "    </tr>\n",
       "  </thead>\n",
       "  <tbody>\n",
       "    <tr>\n",
       "      <th>Others</th>\n",
       "      <td>23.40764</td>\n",
       "    </tr>\n",
       "    <tr>\n",
       "      <th>Social, Finance, Analytics, Advertising</th>\n",
       "      <td>21.17834</td>\n",
       "    </tr>\n",
       "    <tr>\n",
       "      <th>Cleantech / Semiconductors</th>\n",
       "      <td>20.70064</td>\n",
       "    </tr>\n",
       "    <tr>\n",
       "      <th>News, Search and Messaging</th>\n",
       "      <td>11.62420</td>\n",
       "    </tr>\n",
       "    <tr>\n",
       "      <th>Entertainment</th>\n",
       "      <td>8.91720</td>\n",
       "    </tr>\n",
       "    <tr>\n",
       "      <th>Manufacturing</th>\n",
       "      <td>6.68790</td>\n",
       "    </tr>\n",
       "    <tr>\n",
       "      <th>Health</th>\n",
       "      <td>3.82166</td>\n",
       "    </tr>\n",
       "    <tr>\n",
       "      <th>Automotive &amp; Sports</th>\n",
       "      <td>2.54777</td>\n",
       "    </tr>\n",
       "    <tr>\n",
       "      <th>Blanks</th>\n",
       "      <td>1.11465</td>\n",
       "    </tr>\n",
       "  </tbody>\n",
       "</table>\n",
       "</div>"
      ],
      "text/plain": [
       "                                         raised_amount_usd\n",
       "main_sector                                               \n",
       "Others                                            23.40764\n",
       "Social, Finance, Analytics, Advertising           21.17834\n",
       "Cleantech / Semiconductors                        20.70064\n",
       "News, Search and Messaging                        11.62420\n",
       "Entertainment                                      8.91720\n",
       "Manufacturing                                      6.68790\n",
       "Health                                             3.82166\n",
       "Automotive & Sports                                2.54777\n",
       "Blanks                                             1.11465"
      ]
     },
     "execution_count": 66,
     "metadata": {},
     "output_type": "execute_result"
    }
   ],
   "source": [
    "D2GBR = pd.DataFrame(D2.groupby('main_sector')['raised_amount_usd'].count().sort_values(ascending=False)/D2.groupby('main_sector')['raised_amount_usd'].count().sum()*100)\n",
    "D2GBR"
   ]
  },
  {
   "cell_type": "code",
   "execution_count": 67,
   "metadata": {
    "ExecuteTime": {
     "end_time": "2020-12-26T17:43:18.052360Z",
     "start_time": "2020-12-26T17:43:17.582030Z"
    }
   },
   "outputs": [
    {
     "data": {
      "image/png": "[encoded data removed]",
      "text/plain": [
       "<Figure size 1440x720 with 1 Axes>"
      ]
     },
     "metadata": {},
     "output_type": "display_data"
    }
   ],
   "source": [
    "import matplotlib.pyplot as plt\n",
    "\n",
    "f, ax = plt.subplots(figsize=(20,10))\n",
    "plt.pie(D2GBR['raised_amount_usd'],  startangle=90, autopct='%1.0f%%')\n",
    "plt.legend(D2GBR.index, loc=\"lower right\", title = 'Main Sector')\n",
    "\n",
    "plt.axis('equal')\n",
    "plt.title('Investment amount distribution per sector (venture) - GBR')\n",
    "\n",
    "plt.show()"
   ]
  },
  {
   "cell_type": "markdown",
   "metadata": {},
   "source": [
    "### Total Investment Amount per Sector - GBR"
   ]
  },
  {
   "cell_type": "code",
   "execution_count": 68,
   "metadata": {
    "ExecuteTime": {
     "end_time": "2020-12-26T17:43:18.061904Z",
     "start_time": "2020-12-26T17:43:18.054580Z"
    }
   },
   "outputs": [
    {
     "data": {
      "text/plain": [
       "main_sector\n",
       "Others                                    1283624289.00000\n",
       "Cleantech / Semiconductors                1163990056.00000\n",
       "Social, Finance, Analytics, Advertising   1089404014.00000\n",
       "News, Search and Messaging                 615746235.00000\n",
       "Entertainment                              482784687.00000\n",
       "Manufacturing                              361940335.00000\n",
       "Health                                     214537510.00000\n",
       "Automotive & Sports                        167051565.00000\n",
       "Blanks                                      57764848.00000\n",
       "Name: raised_amount_usd, dtype: float64"
      ]
     },
     "execution_count": 68,
     "metadata": {},
     "output_type": "execute_result"
    }
   ],
   "source": [
    "D2.groupby('main_sector')['raised_amount_usd'].sum().sort_values(ascending=False)"
   ]
  },
  {
   "cell_type": "markdown",
   "metadata": {},
   "source": [
    "### Get no. of investments per main sector - IND"
   ]
  },
  {
   "cell_type": "code",
   "execution_count": 69,
   "metadata": {
    "ExecuteTime": {
     "end_time": "2020-12-26T17:43:18.072197Z",
     "start_time": "2020-12-26T17:43:18.063530Z"
    }
   },
   "outputs": [
    {
     "data": {
      "text/plain": [
       "main_sector\n",
       "Others                                     110\n",
       "Social, Finance, Analytics, Advertising     60\n",
       "News, Search and Messaging                  52\n",
       "Entertainment                               33\n",
       "Manufacturing                               21\n",
       "Cleantech / Semiconductors                  20\n",
       "Health                                      19\n",
       "Automotive & Sports                         13\n",
       "Blanks                                       2\n",
       "Name: raised_amount_usd, dtype: int64"
      ]
     },
     "execution_count": 69,
     "metadata": {},
     "output_type": "execute_result"
    }
   ],
   "source": [
    "D3sectors = D3.groupby('main_sector')['raised_amount_usd'].count().sort_values(ascending=False)\n",
    "D3sectors"
   ]
  },
  {
   "cell_type": "markdown",
   "metadata": {},
   "source": []
  },
  {
   "cell_type": "markdown",
   "metadata": {},
   "source": [
    "### Get distribution per sector in % - IND"
   ]
  },
  {
   "cell_type": "code",
   "execution_count": 70,
   "metadata": {
    "ExecuteTime": {
     "end_time": "2020-12-26T17:43:18.084611Z",
     "start_time": "2020-12-26T17:43:18.074049Z"
    }
   },
   "outputs": [
    {
     "data": {
      "text/html": [
       "<div>\n",
       "<style scoped>\n",
       "    .dataframe tbody tr th:only-of-type {\n",
       "        vertical-align: middle;\n",
       "    }\n",
       "\n",
       "    .dataframe tbody tr th {\n",
       "        vertical-align: top;\n",
       "    }\n",
       "\n",
       "    .dataframe thead th {\n",
       "        text-align: right;\n",
       "    }\n",
       "</style>\n",
       "<table border=\"1\" class=\"dataframe\">\n",
       "  <thead>\n",
       "    <tr style=\"text-align: right;\">\n",
       "      <th></th>\n",
       "      <th>raised_amount_usd</th>\n",
       "    </tr>\n",
       "    <tr>\n",
       "      <th>main_sector</th>\n",
       "      <th></th>\n",
       "    </tr>\n",
       "  </thead>\n",
       "  <tbody>\n",
       "    <tr>\n",
       "      <th>Others</th>\n",
       "      <td>33.33333</td>\n",
       "    </tr>\n",
       "    <tr>\n",
       "      <th>Social, Finance, Analytics, Advertising</th>\n",
       "      <td>18.18182</td>\n",
       "    </tr>\n",
       "    <tr>\n",
       "      <th>News, Search and Messaging</th>\n",
       "      <td>15.75758</td>\n",
       "    </tr>\n",
       "    <tr>\n",
       "      <th>Entertainment</th>\n",
       "      <td>10.00000</td>\n",
       "    </tr>\n",
       "    <tr>\n",
       "      <th>Manufacturing</th>\n",
       "      <td>6.36364</td>\n",
       "    </tr>\n",
       "    <tr>\n",
       "      <th>Cleantech / Semiconductors</th>\n",
       "      <td>6.06061</td>\n",
       "    </tr>\n",
       "    <tr>\n",
       "      <th>Health</th>\n",
       "      <td>5.75758</td>\n",
       "    </tr>\n",
       "    <tr>\n",
       "      <th>Automotive &amp; Sports</th>\n",
       "      <td>3.93939</td>\n",
       "    </tr>\n",
       "    <tr>\n",
       "      <th>Blanks</th>\n",
       "      <td>0.60606</td>\n",
       "    </tr>\n",
       "  </tbody>\n",
       "</table>\n",
       "</div>"
      ],
      "text/plain": [
       "                                         raised_amount_usd\n",
       "main_sector                                               \n",
       "Others                                            33.33333\n",
       "Social, Finance, Analytics, Advertising           18.18182\n",
       "News, Search and Messaging                        15.75758\n",
       "Entertainment                                     10.00000\n",
       "Manufacturing                                      6.36364\n",
       "Cleantech / Semiconductors                         6.06061\n",
       "Health                                             5.75758\n",
       "Automotive & Sports                                3.93939\n",
       "Blanks                                             0.60606"
      ]
     },
     "execution_count": 70,
     "metadata": {},
     "output_type": "execute_result"
    }
   ],
   "source": [
    "D3IND = pd.DataFrame(D3.groupby('main_sector')['raised_amount_usd'].count().sort_values(ascending=False)/D3.groupby('main_sector')['raised_amount_usd'].count().sum()*100)\n",
    "D3IND"
   ]
  },
  {
   "cell_type": "code",
   "execution_count": 71,
   "metadata": {
    "ExecuteTime": {
     "end_time": "2020-12-26T17:43:18.554263Z",
     "start_time": "2020-12-26T17:43:18.087133Z"
    }
   },
   "outputs": [
    {
     "data": {
      "image/png": "[encoded data removed]",
      "text/plain": [
       "<Figure size 1440x720 with 1 Axes>"
      ]
     },
     "metadata": {},
     "output_type": "display_data"
    }
   ],
   "source": [
    "import matplotlib.pyplot as plt\n",
    "\n",
    "f, ax = plt.subplots(figsize=(20,10))\n",
    "plt.pie(D3IND['raised_amount_usd'],  startangle=90, autopct='%1.0f%%')\n",
    "plt.legend(D3IND.index, loc=\"lower right\", title = 'Main Sector')\n",
    "\n",
    "plt.axis('equal')\n",
    "plt.title('Investment amount distribution per sector (venture) - IND')\n",
    "\n",
    "plt.show()"
   ]
  },
  {
   "cell_type": "markdown",
   "metadata": {},
   "source": [
    "### Total Investment Amount per sector"
   ]
  },
  {
   "cell_type": "code",
   "execution_count": 72,
   "metadata": {
    "ExecuteTime": {
     "end_time": "2020-12-26T17:43:18.564538Z",
     "start_time": "2020-12-26T17:43:18.556375Z"
    }
   },
   "outputs": [
    {
     "data": {
      "text/plain": [
       "main_sector\n",
       "Others                                    1013409507.00000\n",
       "Social, Finance, Analytics, Advertising    550549550.00000\n",
       "News, Search and Messaging                 433834545.00000\n",
       "Entertainment                              280830000.00000\n",
       "Manufacturing                              200900000.00000\n",
       "Health                                     167740000.00000\n",
       "Cleantech / Semiconductors                 165380000.00000\n",
       "Automotive & Sports                        136900000.00000\n",
       "Blanks                                      27000000.00000\n",
       "Name: raised_amount_usd, dtype: float64"
      ]
     },
     "execution_count": 72,
     "metadata": {},
     "output_type": "execute_result"
    }
   ],
   "source": [
    "D3.groupby('main_sector')['raised_amount_usd'].sum().sort_values(ascending=False)"
   ]
  },
  {
   "cell_type": "markdown",
   "metadata": {},
   "source": [
    "## For point 3 (top sector count-wise), which company received the highest investment?"
   ]
  },
  {
   "cell_type": "code",
   "execution_count": 73,
   "metadata": {
    "ExecuteTime": {
     "end_time": "2020-12-26T17:43:18.579283Z",
     "start_time": "2020-12-26T17:43:18.566059Z"
    }
   },
   "outputs": [
    {
     "data": {
      "text/plain": [
       "company_permalink\n",
       "/organization/virtustream         64300000.00000\n",
       "/organization/capella             54968051.00000\n",
       "/organization/airtight-networks   54201907.00000\n",
       "Name: raised_amount_usd, dtype: float64"
      ]
     },
     "execution_count": 73,
     "metadata": {},
     "output_type": "execute_result"
    }
   ],
   "source": [
    "D1[D1['main_sector'] == \"Others\"].groupby('company_permalink')[\"raised_amount_usd\"].sum().sort_values(ascending=False).head(3)"
   ]
  },
  {
   "cell_type": "code",
   "execution_count": 74,
   "metadata": {
    "ExecuteTime": {
     "end_time": "2020-12-26T17:43:18.589512Z",
     "start_time": "2020-12-26T17:43:18.581401Z"
    }
   },
   "outputs": [
    {
     "data": {
      "text/plain": [
       "company_permalink\n",
       "/organization/electric-cloud   37000000.00000\n",
       "/organization/sensage          36250000.00000\n",
       "/organization/enigmatic        32500000.00000\n",
       "Name: raised_amount_usd, dtype: float64"
      ]
     },
     "execution_count": 74,
     "metadata": {},
     "output_type": "execute_result"
    }
   ],
   "source": [
    "D2[D2['main_sector'] == \"Others\"].groupby('company_permalink')[\"raised_amount_usd\"].sum().sort_values(ascending=False).head(3)"
   ]
  },
  {
   "cell_type": "code",
   "execution_count": 75,
   "metadata": {
    "ExecuteTime": {
     "end_time": "2020-12-26T17:43:18.601546Z",
     "start_time": "2020-12-26T17:43:18.591320Z"
    }
   },
   "outputs": [
    {
     "data": {
      "text/plain": [
       "company_permalink\n",
       "/organization/firstcry-com   39000000.00000\n",
       "/organization/myntra         38000000.00000\n",
       "/organization/commonfloor    32900000.00000\n",
       "Name: raised_amount_usd, dtype: float64"
      ]
     },
     "execution_count": 75,
     "metadata": {},
     "output_type": "execute_result"
    }
   ],
   "source": [
    "D3[D3['main_sector'] == \"Others\"].groupby('company_permalink')[\"raised_amount_usd\"].sum().sort_values(ascending=False).head(3)"
   ]
  },
  {
   "cell_type": "markdown",
   "metadata": {},
   "source": [
    "## For point 4 (second best sector count-wise), which company received the highest investment?"
   ]
  },
  {
   "cell_type": "code",
   "execution_count": 76,
   "metadata": {
    "ExecuteTime": {
     "end_time": "2020-12-26T17:43:18.620358Z",
     "start_time": "2020-12-26T17:43:18.604677Z"
    }
   },
   "outputs": [
    {
     "data": {
      "text/plain": [
       "company_permalink\n",
       "/organization/shotspotter   67933006.00000\n",
       "/organization/demandbase    63000000.00000\n",
       "/organization/intacct       61800000.00000\n",
       "Name: raised_amount_usd, dtype: float64"
      ]
     },
     "execution_count": 76,
     "metadata": {},
     "output_type": "execute_result"
    }
   ],
   "source": [
    "D1[D1['main_sector'] == \"Social, Finance, Analytics, Advertising\"].groupby('company_permalink')[\"raised_amount_usd\"].sum().sort_values(ascending=False).head(3)"
   ]
  },
  {
   "cell_type": "code",
   "execution_count": 77,
   "metadata": {
    "ExecuteTime": {
     "end_time": "2020-12-26T17:43:18.633217Z",
     "start_time": "2020-12-26T17:43:18.622714Z"
    },
    "scrolled": true
   },
   "outputs": [
    {
     "data": {
      "text/plain": [
       "company_permalink\n",
       "/organization/celltick-technologies   37500000.00000\n",
       "/organization/mythings                34000000.00000\n",
       "/organization/zopa                    32900000.00000\n",
       "Name: raised_amount_usd, dtype: float64"
      ]
     },
     "execution_count": 77,
     "metadata": {},
     "output_type": "execute_result"
    }
   ],
   "source": [
    "D2[D2['main_sector'] == \"Social, Finance, Analytics, Advertising\"].groupby('company_permalink')[\"raised_amount_usd\"].sum().sort_values(ascending=False).head(3)"
   ]
  },
  {
   "cell_type": "code",
   "execution_count": 78,
   "metadata": {
    "ExecuteTime": {
     "end_time": "2020-12-26T17:43:18.655657Z",
     "start_time": "2020-12-26T17:43:18.636090Z"
    }
   },
   "outputs": [
    {
     "data": {
      "text/plain": [
       "company_permalink\n",
       "/organization/manthan-systems   50700000.00000\n",
       "/organization/komli-media       28000000.00000\n",
       "/organization/shopclues-com     25000000.00000\n",
       "Name: raised_amount_usd, dtype: float64"
      ]
     },
     "execution_count": 78,
     "metadata": {},
     "output_type": "execute_result"
    }
   ],
   "source": [
    "D3[D3['main_sector'] == \"Social, Finance, Analytics, Advertising\"].groupby('company_permalink')[\"raised_amount_usd\"].sum().sort_values(ascending=False).head(3)"
   ]
  },
  {
   "cell_type": "markdown",
   "metadata": {},
   "source": [
    "# Checkpoint 6 - Plots"
   ]
  },
  {
   "cell_type": "markdown",
   "metadata": {},
   "source": [
    "## Plot showing the representative amount of investment in each funding type"
   ]
  },
  {
   "cell_type": "markdown",
   "metadata": {},
   "source": [
    "A plot showing the representative amount of investment in each funding type. This chart should make it clear that a certain funding type (FT) is best suited for Spark Funds.   "
   ]
  },
  {
   "cell_type": "code",
   "execution_count": 79,
   "metadata": {
    "ExecuteTime": {
     "end_time": "2020-12-26T17:43:18.669678Z",
     "start_time": "2020-12-26T17:43:18.662306Z"
    }
   },
   "outputs": [
    {
     "data": {
      "text/plain": [
       "funding_round_type\n",
       "private_equity   20.00000\n",
       "venture           5.00000\n",
       "angel             0.40000\n",
       "seed              0.27500\n",
       "Name: raised_amount_usd, dtype: float64"
      ]
     },
     "execution_count": 79,
     "metadata": {},
     "output_type": "execute_result"
    }
   ],
   "source": [
    "funds"
   ]
  },
  {
   "cell_type": "code",
   "execution_count": 80,
   "metadata": {
    "ExecuteTime": {
     "end_time": "2020-12-26T17:43:19.052197Z",
     "start_time": "2020-12-26T17:43:18.671860Z"
    },
    "scrolled": true
   },
   "outputs": [
    {
     "data": {
      "image/png": "[encoded data removed]",
      "text/plain": [
       "<Figure size 648x648 with 1 Axes>"
      ]
     },
     "metadata": {},
     "output_type": "display_data"
    }
   ],
   "source": [
    "import seaborn as sns\n",
    "sns.set(style=\"white\", context=\"talk\")\n",
    "f, ax = plt.subplots(figsize=(9,9))\n",
    "ax = sns.barplot(x=funds.index,y=funds) \n",
    "ax.set(xlabel='Funding Type', ylabel='Investment Amount (in Million $)',title='Representative Investment Amount (Median) in each Funding Type')\n",
    "\n",
    "for i, p in enumerate(ax.patches):\n",
    "    height = p.get_height()\n",
    "    ax.text(p.get_x()+p.get_width()/2., height + 0.1, f\"{funds[i]} M\",ha=\"center\")\n",
    "plt.show()"
   ]
  },
  {
   "cell_type": "code",
   "execution_count": 81,
   "metadata": {
    "ExecuteTime": {
     "end_time": "2020-12-26T17:43:19.334250Z",
     "start_time": "2020-12-26T17:43:19.054495Z"
    }
   },
   "outputs": [
    {
     "data": {
      "image/png": "[encoded data removed]",
      "text/plain": [
       "<Figure size 648x648 with 1 Axes>"
      ]
     },
     "metadata": {},
     "output_type": "display_data"
    }
   ],
   "source": [
    "import seaborn as sns\n",
    "sns.set(style=\"white\", context=\"talk\")\n",
    "f, ax = plt.subplots(figsize=(9,9))\n",
    "ax = sns.barplot(x=mean_funds.index,y=mean_funds) \n",
    "ax.set(xlabel='Funding Type', ylabel='Average Investment Amount (in Million $)',title='Average Investment Amount in each Funding Type')\n",
    "\n",
    "for i, p in enumerate(ax.patches):\n",
    "    height = p.get_height()\n",
    "    ax.text(p.get_x()+p.get_width()/2., height + 0.1, f\"{round(mean_funds[i],2)} M\",ha=\"center\")\n",
    "plt.show()"
   ]
  },
  {
   "cell_type": "code",
   "execution_count": 82,
   "metadata": {
    "ExecuteTime": {
     "end_time": "2020-12-26T17:43:19.342059Z",
     "start_time": "2020-12-26T17:43:19.336399Z"
    }
   },
   "outputs": [
    {
     "name": "stdout",
     "output_type": "stream",
     "text": [
      "funding_round_type\n",
      "private_equity   73.30859\n",
      "venture          11.74895\n",
      "angel             0.95869\n",
      "seed              0.71982\n",
      "Name: raised_amount_usd, dtype: float64\n"
     ]
    }
   ],
   "source": [
    "print(mean_funds)"
   ]
  },
  {
   "cell_type": "markdown",
   "metadata": {},
   "source": [
    "## Top 9 countries plot"
   ]
  },
  {
   "cell_type": "markdown",
   "metadata": {},
   "source": [
    "A plot showing the top 9 countries against the total amount of investments of funding type FT. This should make the top 3 countries (Country 1, Country 2, and Country 3) very clear.  "
   ]
  },
  {
   "cell_type": "code",
   "execution_count": 83,
   "metadata": {
    "ExecuteTime": {
     "end_time": "2020-12-26T17:43:19.351889Z",
     "start_time": "2020-12-26T17:43:19.343885Z"
    }
   },
   "outputs": [
    {
     "name": "stdout",
     "output_type": "stream",
     "text": [
      "  country_code funding_round_type  raised_amount_usd  is_ENG_official\n",
      "0          USA            venture 422510842796.00000             True\n",
      "1          CHN            venture  39835418773.00000            False\n",
      "2      UNK_CTR            venture  25506108414.00000            False\n",
      "3          GBR            venture  20245627416.00000             True\n",
      "4          IND            venture  14391858718.00000             True\n",
      "5          CAN            venture   9583332317.00000             True\n",
      "6          FRA            venture   7259536732.00000            False\n",
      "7          ISR            venture   6907514579.00000            False\n",
      "8          DEU            venture   6346959822.00000            False\n"
     ]
    }
   ],
   "source": [
    "print(top9)"
   ]
  },
  {
   "cell_type": "code",
   "execution_count": 84,
   "metadata": {
    "ExecuteTime": {
     "end_time": "2020-12-26T17:43:19.804532Z",
     "start_time": "2020-12-26T17:43:19.353750Z"
    }
   },
   "outputs": [
    {
     "data": {
      "image/png": "[encoded data removed]",
      "text/plain": [
       "<Figure size 864x648 with 1 Axes>"
      ]
     },
     "metadata": {},
     "output_type": "display_data"
    }
   ],
   "source": [
    "import seaborn as sns\n",
    "sns.set(style=\"white\", context=\"talk\")\n",
    "f, ax = plt.subplots(figsize=(12,9))\n",
    "hue_colors = {False: \"red\", True: \"black\"}\n",
    "ax = sns.barplot(y=top9['raised_amount_usd']/1000000,x = top9['country_code'], hue = top9['is_ENG_official'],palette = [\"red\",\"green\"])\n",
    "ax.set( xlabel='Country',ylabel='Total Investment Amount (in Million $)',title = 'Top 9 countries on total investment amount')\n",
    "plt.legend(title = \"Is English Official Language\")\n",
    "plt.show()"
   ]
  },
  {
   "cell_type": "markdown",
   "metadata": {},
   "source": [
    "## No. of investments in top 3 sectors of top 3 countries"
   ]
  },
  {
   "cell_type": "markdown",
   "metadata": {
    "ExecuteTime": {
     "end_time": "2020-12-08T03:39:54.429552Z",
     "start_time": "2020-12-08T03:39:54.425058Z"
    }
   },
   "source": [
    "A plot showing the number of investments in the top 3 sectors of the top 3 countries on one chart (for the chosen investment type FT). This plot should clearly display the top 3 sectors each in Country 1, Country 2, and Country 3."
   ]
  },
  {
   "cell_type": "code",
   "execution_count": 85,
   "metadata": {
    "ExecuteTime": {
     "end_time": "2020-12-26T17:43:20.319023Z",
     "start_time": "2020-12-26T17:43:19.806665Z"
    }
   },
   "outputs": [
    {
     "data": {
      "image/png": "[encoded data removed]",
      "text/plain": [
       "<Figure size 864x648 with 1 Axes>"
      ]
     },
     "metadata": {},
     "output_type": "display_data"
    }
   ],
   "source": [
    "\n",
    "D1top3 = D1sectors.to_frame().reset_index().iloc[0:3,:]\n",
    "D1top3['country'] = 'USA'\n",
    "D2top3 = D2sectors.to_frame().reset_index().iloc[0:3,:]\n",
    "D2top3['country'] = 'GBR'\n",
    "D3top3 = D3sectors.to_frame().reset_index().iloc[0:3,:]\n",
    "D3top3['country'] = 'IND'\n",
    "top3 = pd.concat([D1top3, D2top3, D3top3])\n",
    "top3.rename(columns = {'raised_amount_usd':'num_investments'}, inplace = True) \n",
    "sns.set(style=\"white\", context=\"talk\")\n",
    "f, ax = plt.subplots(figsize=(12,9))\n",
    "ax = sns.barplot(x=top3['country'],y=top3['num_investments'],hue=top3['main_sector']) \n",
    "ax.set(xlabel='Country', ylabel='No. of investments')\n",
    "plt.show()"
   ]
  },
  {
   "cell_type": "code",
   "execution_count": 86,
   "metadata": {
    "ExecuteTime": {
     "end_time": "2020-12-26T17:43:20.329129Z",
     "start_time": "2020-12-26T17:43:20.321555Z"
    }
   },
   "outputs": [
    {
     "data": {
      "text/html": [
       "<div>\n",
       "<style scoped>\n",
       "    .dataframe tbody tr th:only-of-type {\n",
       "        vertical-align: middle;\n",
       "    }\n",
       "\n",
       "    .dataframe tbody tr th {\n",
       "        vertical-align: top;\n",
       "    }\n",
       "\n",
       "    .dataframe thead th {\n",
       "        text-align: right;\n",
       "    }\n",
       "</style>\n",
       "<table border=\"1\" class=\"dataframe\">\n",
       "  <thead>\n",
       "    <tr style=\"text-align: right;\">\n",
       "      <th></th>\n",
       "      <th>main_sector</th>\n",
       "      <th>num_investments</th>\n",
       "      <th>country</th>\n",
       "    </tr>\n",
       "  </thead>\n",
       "  <tbody>\n",
       "    <tr>\n",
       "      <th>0</th>\n",
       "      <td>Others</td>\n",
       "      <td>2950</td>\n",
       "      <td>USA</td>\n",
       "    </tr>\n",
       "    <tr>\n",
       "      <th>1</th>\n",
       "      <td>Social, Finance, Analytics, Advertising</td>\n",
       "      <td>2714</td>\n",
       "      <td>USA</td>\n",
       "    </tr>\n",
       "    <tr>\n",
       "      <th>2</th>\n",
       "      <td>Cleantech / Semiconductors</td>\n",
       "      <td>2350</td>\n",
       "      <td>USA</td>\n",
       "    </tr>\n",
       "    <tr>\n",
       "      <th>0</th>\n",
       "      <td>Others</td>\n",
       "      <td>147</td>\n",
       "      <td>GBR</td>\n",
       "    </tr>\n",
       "    <tr>\n",
       "      <th>1</th>\n",
       "      <td>Social, Finance, Analytics, Advertising</td>\n",
       "      <td>133</td>\n",
       "      <td>GBR</td>\n",
       "    </tr>\n",
       "    <tr>\n",
       "      <th>2</th>\n",
       "      <td>Cleantech / Semiconductors</td>\n",
       "      <td>130</td>\n",
       "      <td>GBR</td>\n",
       "    </tr>\n",
       "    <tr>\n",
       "      <th>0</th>\n",
       "      <td>Others</td>\n",
       "      <td>110</td>\n",
       "      <td>IND</td>\n",
       "    </tr>\n",
       "    <tr>\n",
       "      <th>1</th>\n",
       "      <td>Social, Finance, Analytics, Advertising</td>\n",
       "      <td>60</td>\n",
       "      <td>IND</td>\n",
       "    </tr>\n",
       "    <tr>\n",
       "      <th>2</th>\n",
       "      <td>News, Search and Messaging</td>\n",
       "      <td>52</td>\n",
       "      <td>IND</td>\n",
       "    </tr>\n",
       "  </tbody>\n",
       "</table>\n",
       "</div>"
      ],
      "text/plain": [
       "                               main_sector  num_investments country\n",
       "0                                   Others             2950     USA\n",
       "1  Social, Finance, Analytics, Advertising             2714     USA\n",
       "2               Cleantech / Semiconductors             2350     USA\n",
       "0                                   Others              147     GBR\n",
       "1  Social, Finance, Analytics, Advertising              133     GBR\n",
       "2               Cleantech / Semiconductors              130     GBR\n",
       "0                                   Others              110     IND\n",
       "1  Social, Finance, Analytics, Advertising               60     IND\n",
       "2               News, Search and Messaging               52     IND"
      ]
     },
     "execution_count": 86,
     "metadata": {},
     "output_type": "execute_result"
    }
   ],
   "source": [
    "top3"
   ]
  },
  {
   "cell_type": "code",
   "execution_count": null,
   "metadata": {},
   "outputs": [],
   "source": []
  }
 ],
 "metadata": {
  "kernelspec": {
   "display_name": "Python 3",
   "language": "python",
   "name": "python3"
  },
  "language_info": {
   "codemirror_mode": {
    "name": "ipython",
    "version": 3
   },
   "file_extension": ".py",
   "mimetype": "text/x-python",
   "name": "python",
   "nbconvert_exporter": "python",
   "pygments_lexer": "ipython3",
   "version": "3.6.6"
  },
  "toc": {
   "base_numbering": 1,
   "nav_menu": {},
   "number_sections": true,
   "sideBar": true,
   "skip_h1_title": false,
   "title_cell": "Table of Contents",
   "title_sidebar": "My Steps",
   "toc_cell": false,
   "toc_position": {},
   "toc_section_display": true,
   "toc_window_display": true
  },
  "varInspector": {
   "cols": {
    "lenName": 16,
    "lenType": 16,
    "lenVar": 40
   },
   "kernels_config": {
    "python": {
     "delete_cmd_postfix": "",
     "delete_cmd_prefix": "del ",
     "library": "var_list.py",
     "varRefreshCmd": "print(var_dic_list())"
    },
    "r": {
     "delete_cmd_postfix": ") ",
     "delete_cmd_prefix": "rm(",
     "library": "var_list.r",
     "varRefreshCmd": "cat(var_dic_list()) "
    }
   },
   "types_to_exclude": [
    "module",
    "function",
    "builtin_function_or_method",
    "instance",
    "_Feature"
   ],
   "window_display": false
  }
 },
 "nbformat": 4,
 "nbformat_minor": 2
}
